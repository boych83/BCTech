{
    "cells": [
        {
            "cell_type": "markdown",
            "metadata": {
                "azdata_cell_guid": "1f608a1d-2436-4b48-80d4-5c4d2f8ca7d0"
            },
            "source": [
                "# Dynamics 365 Business Central Troubleshooting Guide (TSG), data-related issues\n",
                "\n",
                "This notebook contains Kusto queries that can help getting to the root cause of an data-related issue for an environment. \n",
                "\n",
                "NB! Some of the signal used in this notebook is only available in newer versions of Business Central, so check the version of your environment if some sections do not return any data. The signal documentation states in which version a given signal was introduced.\n"
            ]
        },
        {
            "cell_type": "markdown",
            "metadata": {
                "azdata_cell_guid": "1c8ccef4-8850-4f44-8791-c79457fea419"
            },
            "source": [
                "## 1\\. Get setup: Load up Python libraries and connect to Application Insights\n",
                "First you need to set the notebook Kernel to Python3, load the KQLmagic module (did you install it?) and connect to your Application Insights resource (get appid and appkey from the API access page in the Application Insights portal)"
            ]
        },
        {
            "cell_type": "code",
            "execution_count": null,
            "metadata": {
                "azdata_cell_guid": "5d02aa4b-9e41-474f-b643-2fbd482077af"
            },
            "outputs": [],
            "source": [
                "# load the KQLmagic module\n",
                "%reload_ext Kqlmagic"
            ]
        },
        {
            "cell_type": "code",
            "execution_count": null,
            "metadata": {
                "azdata_cell_guid": "a253fa8e-6ac2-4722-a00a-1c52aedab4ed",
                "tags": []
            },
            "outputs": [],
            "source": [
                "# Connect to the Application Insights API\n",
                "%kql appinsights://appid='<add app id from the Application Insights portal>';appkey='<add API key from the Application Insights portal>'"
            ]
        },
        {
            "cell_type": "markdown",
            "metadata": {
                "azdata_cell_guid": "9ef1220c-d9cc-4552-9297-1428efcafb32"
            },
            "source": [
                "## 2\\. Define filters\n",
                "\n",
                "This workbook is designed for troubleshooting a single environment. Please provide values for aadTenantId and environmentName (or use a config file)."
            ]
        },
        {
            "cell_type": "code",
            "execution_count": null,
            "metadata": {
                "azdata_cell_guid": "0a0785f7-a85e-4ccf-9020-732e1d4c058a",
                "tags": [
                    "hide_input"
                ]
            },
            "outputs": [],
            "source": [
                "# TSG filter variables\n",
                "\n",
                "# You can either use configuration file (INI file format) or set filters directly. \n",
                "\n",
                "# If you specify a config file, then variables set here takes precedence over manually set filter variables\n",
                "# config file name and directory (full path)\n",
                "configFile = \"c:\\\\tmp\\\\notebook.ini\"\n",
                "\n",
                "\n",
                "# Add AAD tenant id and environment name here\n",
                "aadTenantId = \"MyaaDtenantId\"\n",
                "environmentName = \"MyEnvironment\"\n",
                "\n",
                "# date filters for the analysis\n",
                "# use YYYY-MM-DD format for the dates (ISO 8601)\n",
                "startDate = \"2020-11-20\"\n",
                "endDate = \"2020-11-24\"\n",
                "\n",
                "\n",
                "\n",
                "\n",
                "# Do not edit this code section\n",
                "import configparser\n",
                "config = configparser.ConfigParser()\n",
                "\n",
                "config.read(configFile)\n",
                "\n",
                "if bool(config.defaults()):\n",
                "    if config.has_option('DEFAULT', 'aadTenantId'):\n",
                "        aadTenantId = config['DEFAULT']['aadTenantId']\n",
                "    if config.has_option('DEFAULT', 'environmentName'):\n",
                "        environmentName = config['DEFAULT']['environmentName']\n",
                "    if config.has_option('DEFAULT', 'extensionId'):\n",
                "        extensionId = config['DEFAULT']['extensionId']\n",
                "    if config.has_option('DEFAULT', 'startDate'):    \n",
                "        startDate = config['DEFAULT']['startDate']\n",
                "    if config.has_option('DEFAULT', 'endDate'):\n",
                "        endDate = config['DEFAULT']['endDate']\n",
                "\n",
                "print(\"Using these parameters for the analysis:\")\n",
                "print(\"----------------------------------------\")\n",
                "print(\"aadTenantId         \" + aadTenantId)\n",
                "print(\"environmentName     \" + environmentName)\n",
                "print(\"startDate           \" + startDate)\n",
                "print(\"endDate             \" + endDate)"
            ]
        },
        {
            "cell_type": "markdown",
            "metadata": {
                "azdata_cell_guid": "5f9b698d-8a7e-4757-b27d-02f219d6c589"
            },
            "source": [
                "# Analyze database usage\n",
                "Now you can run Kusto queries to look for possible root causes for issues about data.\n",
                "\n",
                "Either click **Run All** above to run all sections, or scroll down to the type of analysis you want to do and manually run queries"
            ]
        },
        {
            "cell_type": "markdown",
            "metadata": {
                "azdata_cell_guid": "2f9c2d0d-df3c-482b-af58-48416a517117"
            },
            "source": [
                "## Long Running SQL Queries\n",
                "\n",
                "Performance tuning guide: [Efficient data access](https://docs.microsoft.com/en-us/dynamics365/business-central/dev-itpro/performance/performance-developer#efficient-data-access)\n",
                "\n",
                "Database telemetry docs: https://docs.microsoft.com/en-us/dynamics365/business-central/dev-itpro/administration/telemetry-long-running-sql-query-trace\n",
                "\n",
                "KQL samples: https://github.com/microsoft/BCTech/blob/master/samples/AppInsights/KQL/RawData/Long%20Running%20SQL%20Queries.kql"
            ]
        },
        {
            "cell_type": "code",
            "execution_count": null,
            "metadata": {
                "azdata_cell_guid": "a9e923e9-1d05-4acf-a230-4c5142bc3582",
                "tags": []
            },
            "outputs": [],
            "source": [
                "%%kql\n",
                "let _aadTenantId = aadTenantId;\n",
                "let _environmentName = environmentName;\n",
                "let _startDate = startDate;\n",
                "let _endDate = endDate;\n",
                "traces\n",
                "| where 1==1 \n",
                "    and timestamp >= todatetime(_startDate)\n",
                "    and timestamp <= todatetime(_endDate) + totimespan(24h) - totimespan(1ms)   \n",
                "    and customDimensions.aadTenantId == _aadTenantId\n",
                "    and (_environmentName == '' or customDimensions.environmentName == _environmentName )\n",
                "    and customDimensions.eventId == 'RT0005'\n",
                "| summarize count() by bin(timestamp, 1d)\n",
                "| render timechart title= 'Number of long running SQL queries'"
            ]
        },
        {
            "cell_type": "code",
            "execution_count": null,
            "metadata": {
                "azdata_cell_guid": "f1bfdf32-3d81-4365-be37-9fff41957aac"
            },
            "outputs": [],
            "source": [
                "%%kql\n",
                "// \n",
                "// top 10 objects with long running sql queries\n",
                "// \n",
                "let _aadTenantId = aadTenantId;\n",
                "let _environmentName = environmentName;\n",
                "let _startDate = startDate;\n",
                "let _endDate = endDate;\n",
                "traces\n",
                "| where 1==1 \n",
                "    and timestamp >= todatetime(_startDate)\n",
                "    and timestamp <= todatetime(_endDate) + totimespan(24h) - totimespan(1ms)   \n",
                "    and customDimensions.aadTenantId == _aadTenantId\n",
                "    and (_environmentName == '' or customDimensions.environmentName == _environmentName )\n",
                "    and customDimensions.eventId == 'RT0005'\n",
                "    and customDimensions.alObjectId != '0'\n",
                "| extend sqlStatement = tostring(customDimensions.sqlStatement)\n",
                ", alObjectId = tostring(customDimensions.alObjectId)\n",
                ", alObjectName = tostring( customDimensions.alObjectName )\n",
                ", alObjectType = customDimensions.alObjectType\n",
                ", alStackTrace = customDimensions.alStackTrace\n",
                ", executionTimeInMS = toreal(totimespan(customDimensions.executionTime))/10000 //the datatype for executionTime is timespan \n",
                ", extensionName = tostring( customDimensions.extensionName )\n",
                "| summarize count(), sumOfExecutionTimeInMS=sum(executionTimeInMS), medianExecutionTimeInMS=percentile(executionTimeInMS, 50) by alObjectId, alObjectName, extensionName\n",
                "| order by medianExecutionTimeInMS desc\n",
                "| limit 10"
            ]
        },
        {
            "cell_type": "markdown",
            "metadata": {
                "azdata_cell_guid": "3583cd0b-94e2-456d-954a-4b592f4a9d73"
            },
            "source": [
                "## Database locks\n",
                "\n",
                "Performance tuning guide: [Avoid locking](https://docs.microsoft.com/en-us/dynamics365/business-central/dev-itpro/performance/performance-application#avoid-locking)\n",
                "\n",
                "Database locks telemetry docs: https://docs.microsoft.com/en-us/dynamics365/business-central/dev-itpro/administration/telemetry-database-locks-trace\n",
                "\n",
                "KQL samples: https://github.com/microsoft/BCTech/blob/master/samples/AppInsights/KQL/RawData/LockTimeouts.kql\n"
            ]
        },
        {
            "cell_type": "code",
            "execution_count": null,
            "metadata": {
                "azdata_cell_guid": "e4e56e1a-ab5d-427a-bc49-747e6ae34a75"
            },
            "outputs": [],
            "source": [
                "%%kql\n",
                "let _aadTenantId = aadTenantId;\n",
                "let _environmentName = environmentName;\n",
                "let _startDate = startDate;\n",
                "let _endDate = endDate;\n",
                "traces\n",
                "| where 1==1 \n",
                "    and timestamp >= todatetime(_startDate)\n",
                "    and timestamp <= todatetime(_endDate) + totimespan(24h) - totimespan(1ms)   \n",
                "    and customDimensions.aadTenantId == _aadTenantId\n",
                "    and (_environmentName == '' or customDimensions.environmentName == _environmentName )\n",
                "    and customDimensions.eventId == 'RT0012'\n",
                "| summarize request_count=count() by bin(timestamp, 1d)\n",
                "| render timechart title= 'Number of database lock timeouts'"
            ]
        },
        {
            "cell_type": "code",
            "execution_count": null,
            "metadata": {
                "azdata_cell_guid": "803ac61e-3400-4aae-9e59-9b80e7df06bc"
            },
            "outputs": [],
            "source": [
                "%%kql\n",
                "// \n",
                "// top 10 objects that experience database lock timeouts\n",
                "// \n",
                "let _aadTenantId = aadTenantId;\n",
                "let _environmentName = environmentName;\n",
                "let _startDate = startDate;\n",
                "let _endDate = endDate;\n",
                "traces\n",
                "| where 1==1 \n",
                "    and timestamp >= todatetime(_startDate)\n",
                "    and timestamp <= todatetime(_endDate) + totimespan(24h) - totimespan(1ms)   \n",
                "    and customDimensions.aadTenantId == _aadTenantId\n",
                "    and (_environmentName == '' or customDimensions.environmentName == _environmentName )\n",
                "    and customDimensions.eventId == 'RT0012'\n",
                "| extend sqlStatement = tostring(customDimensions.sqlStatement)\n",
                ", alObjectId = tostring(customDimensions.alObjectId)\n",
                ", alObjectName = tostring( customDimensions.alObjectName )\n",
                ", alObjectType = customDimensions.alObjectType \n",
                ", extensionName = tostring( customDimensions.extensionName )\n",
                "| summarize count() by alObjectId, alObjectName, extensionName\n",
                "| order by count_ desc\n",
                "| limit 10"
            ]
        },
        {
            "cell_type": "markdown",
            "metadata": {
                "azdata_cell_guid": "76e60e16-40e3-4819-9e78-bfbe04a3cd0b"
            },
            "source": [
                "## Reports\n",
                "\n",
                "Performance tuning guide: https://docs.microsoft.com/en-us/dynamics365/business-central/dev-itpro/performance/performance-developer#setbasedmethods\n",
                "\n",
                "Report telemetry docs: https://docs.microsoft.com/en-us/dynamics365/business-central/dev-itpro/administration/telemetry-reports-trace\n",
                "\n",
                "KQL samples: \n",
                "* https://github.com/microsoft/BCTech/blob/master/samples/AppInsights/KQL/RawData/Reports.kql\n",
                "* https://github.com/microsoft/BCTech/blob/master/samples/AppInsights/KQL/PerformanceTuning/ReportExecution.kql"
            ]
        },
        {
            "cell_type": "code",
            "execution_count": null,
            "metadata": {
                "azdata_cell_guid": "73449c15-26aa-49b6-94a9-3d2f8608380d"
            },
            "outputs": [],
            "source": [
                "%%kql\n",
                "// \n",
                "// top 10 reports that have a low sqlratio\n",
                "// \n",
                "// The higher the number called sqlratio is, the more set-based the report is (it tells you how many sql rows are read per sql statement)\n",
                "// \n",
                "let _aadTenantId = aadTenantId;\n",
                "let _environmentName = environmentName;\n",
                "let _startDate = startDate;\n",
                "let _endDate = endDate;\n",
                "traces\n",
                "| where 1==1 \n",
                "    and timestamp >= todatetime(_startDate)\n",
                "    and timestamp <= todatetime(_endDate) + totimespan(24h) - totimespan(1ms)   \n",
                "    and customDimensions.aadTenantId == _aadTenantId\n",
                "    and (_environmentName == '' or customDimensions.environmentName == _environmentName )\n",
                "    and customDimensions.eventId == 'RT0006'\n",
                "| project numberOfRows = toint(customDimensions.numberOfRows)\n",
                ", sqlRowsRead = toint( customDimensions.sqlRowsRead )\n",
                ", sqlExecutes = toint( customDimensions.sqlExecutes )\n",
                ", alObjectName = tostring( customDimensions.alObjectName )\n",
                ", alObjectId = tostring( customDimensions.alObjectId )\n",
                ", extensionPublisher = tostring(customDimensions.extensionPublisher )\n",
                "| where isnotnull( sqlExecutes ) and isnotnull( sqlRowsRead )\n",
                "| summarize numberOfReportExecutions=count(), totalRows=sum(numberOfRows), totalSQLExecutes = sum(sqlExecutes), totalSQLRowsRead = sum(sqlRowsRead) by alObjectId, alObjectName\n",
                "| extend sqlratio = toreal(totalSQLRowsRead)/totalSQLExecutes\n",
                ", datasetratio = toreal(totalRows)/totalSQLExecutes\n",
                "| order by sqlratio asc\n",
                "| limit 10"
            ]
        }
    ],
    "metadata": {
        "kernelspec": {
            "display_name": "Python 3",
            "language": "python",
            "name": "python3"
        },
        "language_info": {
            "codemirror_mode": {
                "name": "ipython",
                "version": 3
            },
            "file_extension": ".py",
            "mimetype": "text/x-python",
            "name": "python",
            "nbconvert_exporter": "python",
            "pygments_lexer": "ipython3",
            "version": "3.6.6"
        }
    },
    "nbformat": 4,
    "nbformat_minor": 2
}
