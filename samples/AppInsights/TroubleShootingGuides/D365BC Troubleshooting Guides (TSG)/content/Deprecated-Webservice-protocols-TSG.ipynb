{
    "cells": [
        {
            "cell_type": "markdown",
            "metadata": {
                "azdata_cell_guid": "1f608a1d-2436-4b48-80d4-5c4d2f8ca7d0"
            },
            "source": [
                "# Dynamics 365 Business Central Troubleshooting Guide (TSG) - Usage of deprecated web service protocols\n",
                "\n",
                "This notebook contains Kusto queries that can help determining if one ore more environments are still using web services build on the depreated Odata v3 protocol. Queries go back 30 days\n",
                "\n",
                "NB! The signal used in this notebook is only available in versions 16.1 (or newer) of Business Central, so check the version of your environment if you don't see any data.\n",
                "\n",
                "Web service request signal is documented here: https://docs.microsoft.com/en-us/dynamics365/business-central/dev-itpro/administration/telemetry-webservices-trace "
            ]
        },
        {
            "cell_type": "markdown",
            "metadata": {
                "azdata_cell_guid": "f103fae9-cf6d-40f7-9062-11ce50691046"
            },
            "source": [
                "## 1\\. Get setup: Load up Python libraries and connect to Application Insights\n",
                "First you need to set the notebook Kernel to Python3, load the KQLmagic module (did you install it? <span style=\"color: rgb(0, 128, 0); font-family: Consolas, &quot;Courier New&quot;, monospace; font-size: 12px; white-space: pre;\">Install&nbsp;instructions:&nbsp;https://github.com/microsoft/BCTech/tree/master/samples/AppInsights/TroubleShootingGuides</span>) and connect to your Application Insights resource (get appid and appkey from the API access page in the Application Insights portal)"
            ]
        },
        {
            "cell_type": "code",
            "execution_count": null,
            "metadata": {
                "azdata_cell_guid": "2215d24c-babd-46aa-a4f6-6988159487c7"
            },
            "outputs": [],
            "source": [
                "# load the KQLmagic module\n",
                "%reload_ext Kqlmagic"
            ]
        },
        {
            "cell_type": "code",
            "execution_count": null,
            "metadata": {
                "azdata_cell_guid": "a253fa8e-6ac2-4722-a00a-1c52aedab4ed",
                "tags": []
            },
            "outputs": [],
            "source": [
                "# Connect to the Application Insights API\n",
                "%kql appinsights://appid='<add app id from the Application Insights portal>';appkey='<add API key from the Application Insights portal>'"
            ]
        },
        {
            "cell_type": "markdown",
            "metadata": {
                "azdata_cell_guid": "9ef1220c-d9cc-4552-9297-1428efcafb32"
            },
            "source": [
                "## 2\\. Define filters\n",
                "\n",
                "This workbook is designed for troubleshooting environments in an AAD subscription. Please provide values for aadTenantId below (or use a config file)."
            ]
        },
        {
            "cell_type": "code",
            "execution_count": null,
            "metadata": {
                "azdata_cell_guid": "0a0785f7-a85e-4ccf-9020-732e1d4c058a",
                "tags": []
            },
            "outputs": [],
            "source": [
                "# TSG filter variables\n",
                "\n",
                "# You can either use configuration file (INI file format) or set filters directly. \n",
                "\n",
                "# If you specify a config file, then variables set here takes precedence over manually set filter variables\n",
                "# config file name and directory (full path)\n",
                "configFile = \"c:\\\\tmp\\\\notebook.ini\"\n",
                "\n",
                "\n",
                "# Add AAD tenant id and environment name here\n",
                "aadTenantId = \"MyaaDtenantId\"\n",
                "environmentName = \"MyEnvironment\"\n",
                "\n",
                "# date filters for the analysis\n",
                "# use YYYY-MM-DD format for the dates (ISO 8601)\n",
                "startDate = \"2020-11-20\"\n",
                "endDate = \"2020-11-24\"\n",
                "\n",
                "\n",
                "\n",
                "\n",
                "# Do not edit this code section\n",
                "import configparser\n",
                "config = configparser.ConfigParser()\n",
                "\n",
                "config.read(configFile)\n",
                "\n",
                "if bool(config.defaults()):\n",
                "    if config.has_option('DEFAULT', 'aadTenantId'):\n",
                "        aadTenantId = config['DEFAULT']['aadTenantId']\n",
                "    if config.has_option('DEFAULT', 'environmentName'):\n",
                "        environmentName = config['DEFAULT']['environmentName']\n",
                "    if config.has_option('DEFAULT', 'extensionId'):\n",
                "        extensionId = config['DEFAULT']['extensionId']\n",
                "    if config.has_option('DEFAULT', 'startDate'):    \n",
                "        startDate = config['DEFAULT']['startDate']\n",
                "    if config.has_option('DEFAULT', 'endDate'):\n",
                "        endDate = config['DEFAULT']['endDate']\n",
                "\n",
                "print(\"Using these parameters for the analysis:\")\n",
                "print(\"----------------------------------------\")\n",
                "print(\"aadTenantId         \" + aadTenantId)\n",
                "print(\"environmentName     \" + environmentName)\n",
                "print(\"startDate           \" + startDate)\n",
                "print(\"endDate             \" + endDate)"
            ]
        },
        {
            "cell_type": "markdown",
            "metadata": {
                "azdata_cell_guid": "5f9b698d-8a7e-4757-b27d-02f219d6c589"
            },
            "source": [
                "# Analyze usage of web services\n",
                "\n",
                "Either click **Run All** above to run all sections, or scroll down to the type of analysis you want to do and manually run queries\n",
                "\n",
                "Telemetry docs: https://docs.microsoft.com/en-us/dynamics365/business-central/dev-itpro/administration/telemetry-webservices-trace\n",
                "\n",
                "KQL samples\n",
                "* https://github.com/microsoft/BCTech/blob/master/samples/AppInsights/KQL/RawData/WebServiceCalls.kql\n",
                "* https://github.com/microsoft/BCTech/blob/master/samples/AppInsights/KQL/DeprecatedWebServiceProtocols.kql"
            ]
        },
        {
            "cell_type": "markdown",
            "metadata": {
                "azdata_cell_guid": "810235a1-c202-47a2-b9dc-4d4d1ffd123c"
            },
            "source": [
                "## Request stats (last 30 days)\n",
                "The first report shows statistics for all categories.\n",
                "\n",
                "The second report shows statistics only for deprecated categories.\n"
            ]
        },
        {
            "cell_type": "code",
            "execution_count": null,
            "metadata": {
                "azdata_cell_guid": "6426410c-182a-486c-8466-228cb9ce3228",
                "tags": []
            },
            "outputs": [],
            "source": [
                "%%kql\n",
                "let _aadTenantId = aadTenantId;\n",
                "let _environmentName = environmentName;\n",
                "traces\n",
                "| where 1==1 \n",
                "    and timestamp > ago(30d)\n",
                "    and customDimensions.aadTenantId == _aadTenantId\n",
                "    and (_environmentName == '' or customDimensions.environmentName == _environmentName )\n",
                "    and customDimensions.eventId == 'RT0008'\n",
                "| extend category = tostring( customDimensions.category )\n",
                "| summarize request_count=count() by category, bin(timestamp, 1d)\n",
                "| render timechart title= 'Number of web service requests by category (ODatav4, ODatav3, SOAP, API)'"
            ]
        },
        {
            "cell_type": "code",
            "execution_count": null,
            "metadata": {
                "azdata_cell_guid": "2da40a82-82ec-44a2-b13b-6086e11cdfb0"
            },
            "outputs": [],
            "source": [
                "%%kql\n",
                "let _aadTenantId = aadTenantId;\n",
                "let _environmentName = environmentName;\n",
                "traces\n",
                "| where 1==1 \n",
                "    and timestamp > ago(30d)\n",
                "    and customDimensions.aadTenantId == _aadTenantId\n",
                "    and (_environmentName == '' or customDimensions.environmentName == _environmentName )\n",
                "    and customDimensions.eventId == 'RT0008'\n",
                "    and customDimensions.category == 'ODataV3'\n",
                "| extend category = tostring( customDimensions.category )\n",
                "| summarize request_count=count() by category, bin(timestamp, 1d)\n",
                "| render timechart title= 'Number of web service requests by category (deprecated categories)'"
            ]
        },
        {
            "cell_type": "markdown",
            "metadata": {
                "azdata_cell_guid": "2f9c2d0d-df3c-482b-af58-48416a517117"
            },
            "source": [
                "## Web service endpoints using deprecated protocols\n",
                "\n",
                "The following endpoints are exposed ad web service endpoints using a deprecated protocol (query shows the first 100)"
            ]
        },
        {
            "cell_type": "code",
            "execution_count": null,
            "metadata": {
                "azdata_cell_guid": "a9e923e9-1d05-4acf-a230-4c5142bc3582",
                "tags": []
            },
            "outputs": [],
            "source": [
                "%%kql\n",
                "let _aadTenantId = aadTenantId;\n",
                "let _environmentName = environmentName;\n",
                "traces\n",
                "| where 1==1 \n",
                "    and timestamp > ago(30d)\n",
                "    and customDimensions.aadTenantId == _aadTenantId\n",
                "    and (_environmentName == '' or customDimensions.environmentName == _environmentName )\n",
                "    and customDimensions.eventId == 'RT0008'\n",
                "    and customDimensions.category == 'ODataV3'\n",
                "| project aadId = tostring( customDimensions.aadTenantId )\n",
                "        , environmentName = tostring( customDimensions.environmentName )\n",
                "        , category = tostring( customDimensions.category )\n",
                "        , endpoint = tostring( customDimensions.endpoint )\n",
                "| distinct aadId\n",
                "        , environmentName \n",
                "        , category \n",
                "        , endpoint\n",
                "| limit 100"
            ]
        }
    ],
    "metadata": {
        "kernelspec": {
            "display_name": "Python 3",
            "language": "python",
            "name": "python3"
        },
        "language_info": {
            "codemirror_mode": {
                "name": "ipython",
                "version": 3
            },
            "file_extension": ".py",
            "mimetype": "text/x-python",
            "name": "python",
            "nbconvert_exporter": "python",
            "pygments_lexer": "ipython3",
            "version": "3.6.6"
        }
    },
    "nbformat": 4,
    "nbformat_minor": 2
}
