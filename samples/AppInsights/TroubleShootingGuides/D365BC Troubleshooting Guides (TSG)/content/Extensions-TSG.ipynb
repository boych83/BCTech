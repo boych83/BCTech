{
    "metadata": {
        "kernelspec": {
            "name": "python3",
            "display_name": "Python 3 (ipykernel)",
            "language": "python"
        },
        "language_info": {
            "name": "python",
            "version": "3.8.10",
            "mimetype": "text/x-python",
            "codemirror_mode": {
                "name": "ipython",
                "version": 3
            },
            "pygments_lexer": "ipython3",
            "nbconvert_exporter": "python",
            "file_extension": ".py"
        },
        "extensions": {
            "azuredatastudio": {
                "version": 1,
                "views": []
            }
        }
    },
    "nbformat_minor": 2,
    "nbformat": 4,
    "cells": [
        {
            "cell_type": "markdown",
            "source": [
                "# Dynamics 365 Business Central Troubleshooting Guide (TSG) - Extensions\n",
                "\n",
                "This notebook contains Kusto queries that can help getting to the root cause of an issue with extensions for one or more environments. \n",
                "\n",
                "NB! Some of the signal used in this notebook is only available in newer versions of Business Central, so check the version of your environment if some sections do not return any data. The signal documentation states in which version a given signal was introduced."
            ],
            "metadata": {
                "azdata_cell_guid": "1f608a1d-2436-4b48-80d4-5c4d2f8ca7d0",
                "extensions": {
                    "azuredatastudio": {
                        "views": []
                    }
                }
            }
        },
        {
            "cell_type": "markdown",
            "source": [
                "## 1\\. Get setup: Load up Python libraries and connect to Application Insights\n",
                "\n",
                "First you need to set the notebook Kernel to Python3, \n",
                "\n",
                "load the KQLmagic module (did you install it? If not, go here to get install instructions <span style=\"color: rgb(33, 33, 33); font-family: Consolas, &quot;Courier New&quot;, monospace; font-size: 12px; white-space: pre;\">&nbsp;<a href=\"https://github.com/microsoft/BCTech/tree/master/samples/AppInsights/TroubleShootingGuides\" data-href=\"https://github.com/microsoft/BCTech/tree/master/samples/AppInsights/TroubleShootingGuides\" title=\"https://github.com/microsoft/BCTech/tree/master/samples/AppInsights/TroubleShootingGuides\" is-absolute=\"false\">https://github.com/microsoft/BCTech/tree/master/samples/AppInsights/TroubleShootingGuides</a></span>) \n",
                "\n",
                "and connect to your Application Insights resource (get appid and appkey from the API access page in the Application Insights portal)"
            ],
            "metadata": {
                "azdata_cell_guid": "f103fae9-cf6d-40f7-9062-11ce50691046",
                "extensions": {
                    "azuredatastudio": {
                        "views": []
                    }
                }
            },
            "attachments": {}
        },
        {
            "cell_type": "code",
            "source": [
                "# load the KQLmagic module\n",
                "%reload_ext Kqlmagic"
            ],
            "metadata": {
                "azdata_cell_guid": "5d02aa4b-9e41-474f-b643-2fbd482077af",
                "extensions": {
                    "azuredatastudio": {
                        "views": []
                    }
                }
            },
            "outputs": [
                {
                    "output_type": "display_data",
                    "data": {
                        "text/plain": "<IPython.core.display.HTML object>",
                        "text/html": "<html>\n            <head>\n            <title>Kqlmagic - banner</title>\n            <style>\n            .kql-magic-banner {\n                display: flex; \n                background-color: #d9edf7;\n            }\n            .kql-magic-banner > div {\n                margin: 10px; \n                padding: 20px; \n                color: #3a87ad; \n                font-size: 13px;\n            }\n            </style>\n            </head>\n            <body>\n                <div class='kql-magic-banner'>\n                    <div><img src='data:image/png;base64,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'></div>\n                    <div>\n                        <p>Kql Query Language, aka kql, is the query language for advanced analytics on Azure Monitor resources. The current supported data sources are \n                        Azure Data Explorer (Kusto), Log Analytics and Application Insights. To get more information execute '%kql --help \"kql\"'</p>\n                        <p>   \n                          &bull; \n                kql reference: Click on 'Help' tab > and Select 'kql reference' or execute '%kql --help \"kql\"'<br>\n                          &bull; \n                Kqlmagic configuration: execute '%config Kqlmagic'<br>\n                          &bull; \n                Kqlmagic usage: execute '%kql --usage'<br>\n                          &bull; \n                To report bug/issue: execute '%kql --bug-report'<br>                \n                        </p> \n                    </div>\n                </div>\n            </body>\n            </html>"
                    },
                    "metadata": {}
                },
                {
                    "output_type": "display_data",
                    "data": {
                        "text/plain": "<IPython.core.display.HTML object>",
                        "text/html": "<html>\n        <head>\n            \n            \n        </head>\n        <body>\n            <div><p style=' padding: 10px; color: #3a87ad; background-color: #d9edf7; border-color: #bce9f1'>Kqlmagic&nbsp;package&nbsp;is&nbsp;updated&nbsp;frequently.&nbsp;Run&nbsp;&apos;!pip&nbsp;install&nbsp;Kqlmagic&nbsp;--no-cache-dir&nbsp;--upgrade&apos;&nbsp;to&nbsp;use&nbsp;the&nbsp;latest&nbsp;version.<br>Kqlmagic&nbsp;version:&nbsp;0.1.114.post2,&nbsp;source:&nbsp;https://github.com/Microsoft/jupyter-Kqlmagic</p></div>\n        </body>\n        </html>"
                    },
                    "metadata": {}
                },
                {
                    "output_type": "display_data",
                    "data": {
                        "text/plain": "<IPython.core.display.HTML object>",
                        "text/html": "<!DOCTYPE html>\n            <html><body>\n            <div style='padding: 10px; color: #3a87ad; background-color: #d9edf7; border-color: #bce9f1'>\n            Click&nbsp;to&nbsp;find&nbsp;out&nbsp;what's&nbsp;new&nbsp;in&nbsp;Kqlmagic&nbsp;&nbsp;<a href='http://127.0.0.1:51002/webbrowser?url=http%3A//127.0.0.1%3A51002/files/.kqlmagic/temp_files/a44b089c-ff19-4331-bf85-f43912ed40b9/popup_what_new_history.html%3Fkernelid%3Da44b089c-ff19-4331-bf85-f43912ed40b9&kernelid=a44b089c-ff19-4331-bf85-f43912ed40b9' style='padding: 2px 6px 2px 6px; color: #333333; background-color: #EEEEEE; border-top: 1px solid #CCCCCC; border-right: 1px solid #333333; border-bottom: 1px solid #333333; border-left: 1px solid #CCCCCC' target='popup_what_new_history'>What's New? </a>\n            </div>\n            </body></html>"
                    },
                    "metadata": {}
                }
            ],
            "execution_count": 2
        },
        {
            "cell_type": "code",
            "source": [
                "# Connect to the Application Insights API\n",
                "# %kql appinsights://appid='<add app id from the Application Insights portal>';appkey='<add API key from the Application Insights portal>'\n",
                "%kql appinsights://appid='5320f363-af54-4d91-af03-2a0e4fee2dbd';appkey='yetjaorz5bo4ntbjwxuu7oc2q4vjt8hyn5fhj6u5'"
            ],
            "metadata": {
                "azdata_cell_guid": "a253fa8e-6ac2-4722-a00a-1c52aedab4ed",
                "tags": [],
                "extensions": {
                    "azuredatastudio": {
                        "views": []
                    }
                }
            },
            "outputs": [
                {
                    "output_type": "display_data",
                    "data": {
                        "text/plain": "<IPython.core.display.HTML object>",
                        "text/html": "<!DOCTYPE html>\n            <html><body>\n            <div style=''>\n            <a href='http://127.0.0.1:51002/webbrowser?url=http%3A//127.0.0.1%3A51002/files/.kqlmagic/temp_files/a44b089c-ff19-4331-bf85-f43912ed40b9/popup__5320f363-af54-4d91-af03-2a0e4fee2dbd_at_applicationinsights_schema.html%3Fkernelid%3Da44b089c-ff19-4331-bf85-f43912ed40b9&kernelid=a44b089c-ff19-4331-bf85-f43912ed40b9' style='padding: 2px 6px 2px 6px; color: #333333; background-color: #EEEEEE; border-top: 1px solid #CCCCCC; border-right: 1px solid #333333; border-bottom: 1px solid #333333; border-left: 1px solid #CCCCCC' target='popup__5320f363-af54-4d91-af03-2a0e4fee2dbd_at_applicationinsights_schema'>popup schema 5320f363-af54-4d91-af03-2a0e4fee2dbd@applicationinsights</a>\n            </div>\n            </body></html>"
                    },
                    "metadata": {}
                }
            ],
            "execution_count": 3
        },
        {
            "cell_type": "markdown",
            "source": [
                "## 2\\. Define filters\n",
                "\n",
                "This workbook is designed for troubleshooting extensions. Please provide values for aadTenantId, environmentName, and extensionId (or use a config file).\n",
                "\n",
                "You can also specify limits to the period of time that the analysis should include."
            ],
            "metadata": {
                "azdata_cell_guid": "9ef1220c-d9cc-4552-9297-1428efcafb32",
                "extensions": {
                    "azuredatastudio": {
                        "views": []
                    }
                }
            }
        },
        {
            "cell_type": "code",
            "source": [
                "# Add values for AAD tenant id, environment name, and extension id.\n",
                "# It is possible to leave one or more values blank (if you want to analyze across all values of the parameter)\n",
                "\n",
                "# You can either use configuration file (INI file format) or set filters directly. \n",
                "\n",
                "# If you specify a config file, then variables set here takes precedence over manually set filter variables\n",
                "# config file name and directory (full path)\n",
                "configFile = \"c:\\\\tmp\\\\notebook.ini\"\n",
                "\n",
                "\n",
                "# Add AAD tenant id and environment name here (or leave blank)\n",
                "aadTenantId = \"71a7355a-f8d1-42b8-8e56-464b63afed9d\"\n",
                "environmentName = \"ROX PJ SLO\"\n",
                "extensionId = \"\"\n",
                "\n",
                "# date filters for the analysis\n",
                "# use YYYY-MM-DD format for the dates (ISO 8601)\n",
                "startDate = \"2021-11-20\"\n",
                "endDate = \"2023-01-01\"\n",
                "\n",
                "\n",
                "\n",
                "# Do not edit this code section\n",
                "import configparser\n",
                "config = configparser.ConfigParser()\n",
                "\n",
                "config.read(configFile)\n",
                "\n",
                "if bool(config.defaults()):\n",
                "    if config.has_option('DEFAULT', 'aadTenantId'):\n",
                "        aadTenantId = config['DEFAULT']['aadTenantId']\n",
                "    if config.has_option('DEFAULT', 'environmentName'):\n",
                "        environmentName = config['DEFAULT']['environmentName']\n",
                "    if config.has_option('DEFAULT', 'extensionId'):\n",
                "        extensionId = config['DEFAULT']['extensionId']\n",
                "    if config.has_option('DEFAULT', 'startDate'):    \n",
                "        startDate = config['DEFAULT']['startDate']\n",
                "    if config.has_option('DEFAULT', 'endDate'):\n",
                "        endDate = config['DEFAULT']['endDate']\n",
                "\n",
                "print(\"Using these parameters for the analysis:\")\n",
                "print(\"----------------------------------------\")\n",
                "print(\"aadTenantId         \" + aadTenantId)\n",
                "print(\"environmentName     \" + environmentName)\n",
                "print(\"extensionId         \" + extensionId)\n",
                "print(\"startDate           \" + startDate)\n",
                "print(\"endDate             \" + endDate)"
            ],
            "metadata": {
                "azdata_cell_guid": "0a0785f7-a85e-4ccf-9020-732e1d4c058a",
                "tags": [],
                "extensions": {
                    "azuredatastudio": {
                        "views": []
                    }
                }
            },
            "outputs": [
                {
                    "output_type": "stream",
                    "name": "stdout",
                    "text": "Using these parameters for the analysis:\n----------------------------------------\naadTenantId         71a7355a-f8d1-42b8-8e56-464b63afed9d\nenvironmentName     ROX PJ SLO\nextensionId         \nstartDate           2021-11-20\nendDate             2023-01-01\n"
                }
            ],
            "execution_count": 4
        },
        {
            "cell_type": "markdown",
            "source": [
                "# Analyze extension events\n",
                "Now you can run Kusto queries to look for possible root causes for issues about extensions.\n",
                "\n",
                "Either click **Run All** above to run all sections, or scroll down to the type of analysis you want to do and manually run queries"
            ],
            "metadata": {
                "azdata_cell_guid": "5f9b698d-8a7e-4757-b27d-02f219d6c589",
                "extensions": {
                    "azuredatastudio": {
                        "views": []
                    }
                }
            }
        },
        {
            "cell_type": "markdown",
            "source": [
                "## Extension event overview\n",
                "\n",
                "Event telemetry docs: \n",
                "* https://docs.microsoft.com/en-us/dynamics365/business-central/dev-itpro/administration/telemetry-extension-lifecycle-trace\n",
                "* https://docs.microsoft.com/en-us/dynamics365/business-central/dev-itpro/administration/telemetry-extension-update-trace\n",
                "\n",
                "KQL samples: https://github.com/microsoft/BCTech/blob/master/samples/AppInsights/KQL/RawData/ExtensionLifecycle.kql"
            ],
            "metadata": {
                "azdata_cell_guid": "2f9c2d0d-df3c-482b-af58-48416a517117",
                "extensions": {
                    "azuredatastudio": {
                        "views": []
                    }
                }
            }
        },
        {
            "cell_type": "code",
            "source": [
                "%%kql\n",
                "//\n",
                "// extension event types stats \n",
                "// \n",
                "let _aadTenantId = aadTenantId;\n",
                "let _environmentName = environmentName;\n",
                "let _extensionId = extensionId;\n",
                "let _startDate = startDate;\n",
                "let _endDate = endDate;\n",
                "traces\n",
                "| where 1==1 \n",
                "    and timestamp >= todatetime(_startDate)\n",
                "    and timestamp <= todatetime(_endDate) + totimespan(24h) - totimespan(1ms)\n",
                "    and (_aadTenantId == '' or customDimensions.aadTenantId == _aadTenantId)\n",
                "    and (_environmentName == '' or customDimensions.environmentName == _environmentName )\n",
                "    and (_extensionId == '' or customDimensions.extensionId == _extensionId)    \n",
                "    and customDimensions.eventId in ('RT0010', 'LC0010', 'LC0011', 'LC0012', 'LC0013', 'LC0014', 'LC0015', 'LC0016', 'LC0017', 'LC0018', 'LC0019', 'LC0020', 'LC0021', 'LC0022', 'LC0023')    \n",
                "| extend aadTenantId=tostring( customDimensions.aadTenantId)\n",
                "       , environmentName=tostring( customDimensions.environmentName )\n",
                "       , extensionId=tostring( customDimensions.extensionId )\n",
                "       , eventId=tostring(customDimensions.eventId)\n",
                "| extend eventMessageShort= strcat( case(\n",
                "              eventId=='RT0010', 'Update failed (upgrade code)'\n",
                "            , eventId=='LC0011', 'Install failed'\n",
                "            , eventId=='LC0012', 'Synch succeeded'\n",
                "            , eventId=='LC0013', 'Synch failed'           \n",
                "            , eventId=='LC0014', 'Publish succeeded'\n",
                "            , eventId=='LC0015', 'Publish failed'\n",
                "            , eventId=='LC0016', 'Un-install succeeded'\n",
                "            , eventId=='LC0017', 'Un-install failed'\n",
                "            , eventId=='LC0018', 'Un-publish succeeded'\n",
                "            , eventId=='LC0019', 'Un-publish failed'\n",
                "            , eventId=='LC0020', 'Compilation succeeded'\n",
                "            , eventId=='LC0021', 'Compilation failed'\n",
                "            , eventId=='LC0022', 'Update succeeded'\n",
                "            , eventId=='LC0023', 'Update failed (other)'\n",
                "            ,                    'Unknown message'\n",
                "         ), \" (\", eventId, ')'  )\n",
                "| summarize count=count() by eventType=eventMessageShort\n",
                "| order by eventType\n",
                "| render barchart with (title='Extension lifecycle event overview', legend=hidden)"
            ],
            "metadata": {
                "azdata_cell_guid": "a9e923e9-1d05-4acf-a230-4c5142bc3582",
                "tags": [],
                "extensions": {
                    "azuredatastudio": {
                        "views": []
                    }
                }
            },
            "outputs": [
                {
                    "output_type": "display_data",
                    "data": {
                        "text/plain": "<IPython.core.display.HTML object>",
                        "text/html": "<html>\n        <head>\n            \n            \n        </head>\n        <body>\n            <div><p style=' padding: 10px; color: #3a87ad; background-color: #d9edf7; border-color: #bce9f1'>&nbsp;*&nbsp;5320f363-af54-4d91-af03-2a0e4fee2dbd@applicationinsights</p></div>\n        </body>\n        </html>"
                    },
                    "metadata": {}
                },
                {
                    "output_type": "display_data",
                    "data": {
                        "text/plain": "<IPython.core.display.HTML object>",
                        "text/html": "<html>\n        <head>\n            <style>#uuid-1ef57fc5df4545e1bc2118c08f37d030 {\n                    display: block; \n                    font-style:italic;\n                    font-size:300%;\n                    text-align:center;\n                } </style>\n            <title>Kqlmagic - chart</title>\n        </head>\n        <body>\n            <div id=\"uuid-1ef57fc5df4545e1bc2118c08f37d030\"><br><br>EMPTY CHART (no data)<br><br>.</div>\n        </body>\n        </html>"
                    },
                    "metadata": {}
                },
                {
                    "output_type": "display_data",
                    "data": {
                        "text/plain": "<IPython.core.display.HTML object>",
                        "text/html": "<html>\n        <head>\n            \n            \n        </head>\n        <body>\n            <div><p style=' padding: 10px; color: #3a87ad; background-color: #d9edf7; border-color: #bce9f1'>Done&nbsp;(00:07.078):&nbsp;0&nbsp;records</p></div>\n        </body>\n        </html>"
                    },
                    "metadata": {}
                },
                {
                    "output_type": "execute_result",
                    "execution_count": 5,
                    "data": {
                        "text/plain": "[]",
                        "text/html": ""
                    },
                    "metadata": {}
                }
            ],
            "execution_count": 5
        },
        {
            "cell_type": "code",
            "source": [
                "%%kql\n",
                "//\n",
                "// top 100 extension events\n",
                "// \n",
                "let _aadTenantId = aadTenantId;\n",
                "let _environmentName = environmentName;\n",
                "let _extensionId = extensionId;\n",
                "let _startDate = startDate;\n",
                "let _endDate = endDate;\n",
                "traces\n",
                "| where 1==1 \n",
                "    and timestamp >= todatetime(_startDate)\n",
                "    and timestamp <= todatetime(_endDate) + totimespan(24h) - totimespan(1ms)\n",
                "    and (_aadTenantId == '' or customDimensions.aadTenantId == _aadTenantId)\n",
                "    and (_environmentName == '' or customDimensions.environmentName == _environmentName )\n",
                "    and (_extensionId == '' or customDimensions.extensionId == _extensionId)    \n",
                "    and customDimensions.eventId in ('RT0010', 'LC0010', 'LC0011', 'LC0012', 'LC0013', 'LC0014', 'LC0015', 'LC0016', 'LC0017', 'LC0018', 'LC0019', 'LC0020', 'LC0021', 'LC0022', 'LC0023')    \n",
                "| extend aadTenantId=tostring( customDimensions.aadTenantId)\n",
                "       , environmentName=tostring( customDimensions.environmentName )\n",
                "       , extensionId=tostring( customDimensions.extensionId )\n",
                "       , extensionName=tostring( customDimensions.extensionName )\n",
                "       , eventId=tostring(customDimensions.eventId)       \n",
                "       , failureReason=tostring(customDimensions.failureReason)    \n",
                "| extend eventMessageShort= strcat( case(\n",
                "              eventId=='RT0010', 'Update failed (upgrade code)'\n",
                "            , eventId=='LC0011', 'Install failed'\n",
                "            , eventId=='LC0012', 'Synch succeeded'\n",
                "            , eventId=='LC0013', 'Synch failed'           \n",
                "            , eventId=='LC0014', 'Publish succeeded'\n",
                "            , eventId=='LC0015', 'Publish failed'\n",
                "            , eventId=='LC0016', 'Un-install succeeded'\n",
                "            , eventId=='LC0017', 'Un-install failed'\n",
                "            , eventId=='LC0018', 'Un-publish succeeded'\n",
                "            , eventId=='LC0019', 'Un-publish failed'\n",
                "            , eventId=='LC0020', 'Compilation succeeded'\n",
                "            , eventId=='LC0021', 'Compilation failed'\n",
                "            , eventId=='LC0022', 'Update succeeded'\n",
                "            , eventId=='LC0023', 'Update failed (other)'\n",
                "            ,                    'Unknown message'\n",
                "         ), \" (\", eventId, ')'  )\n",
                "| project timestamp, eventMessageShort, extensionName, extensionId,failureReason\n",
                "| order by aadTenantId, environmentName, extensionId, timestamp asc\n",
                "| limit 100"
            ],
            "metadata": {
                "azdata_cell_guid": "e4e56e1a-ab5d-427a-bc49-747e6ae34a75",
                "extensions": {
                    "azuredatastudio": {
                        "views": []
                    }
                }
            },
            "outputs": [
                {
                    "output_type": "display_data",
                    "data": {
                        "text/plain": "<IPython.core.display.HTML object>",
                        "text/html": "<html>\n        <head>\n            \n            \n        </head>\n        <body>\n            <div><p style=' padding: 10px; color: #3a87ad; background-color: #d9edf7; border-color: #bce9f1'>&nbsp;*&nbsp;5320f363-af54-4d91-af03-2a0e4fee2dbd@applicationinsights</p></div>\n        </body>\n        </html>"
                    },
                    "metadata": {}
                },
                {
                    "output_type": "display_data",
                    "data": {
                        "text/plain": "<IPython.core.display.HTML object>",
                        "text/html": "<html>\n        <head>\n            \n            <title>Kqlmagic - table</title>\n        </head>\n        <body>\n            <table>\n    <thead>\n        <tr>\n            <th>timestamp</th>\n            <th>eventMessageShort</th>\n            <th>extensionName</th>\n            <th>extensionId</th>\n            <th>failureReason</th>\n        </tr>\n    </thead>\n    <tbody>\n        <tr>\n            <td>2022-02-25 20:55:03.640000+00:00</td>\n            <td>Synch succeeded (LC0012)</td>\n            <td>Adacta Document Printouts</td>\n            <td>c1f216fc-711b-426b-b2cd-bdbb189a8928</td>\n            <td></td>\n        </tr>\n        <tr>\n            <td>2022-02-25 20:55:14.251000+00:00</td>\n            <td>Unknown message (LC0010)</td>\n            <td>Adacta Document Printouts</td>\n            <td>c1f216fc-711b-426b-b2cd-bdbb189a8928</td>\n            <td></td>\n        </tr>\n        <tr>\n            <td>2022-03-01 23:03:59.167000+00:00</td>\n            <td>Synch failed (LC0013)</td>\n            <td>Adacta Document Printouts</td>\n            <td>c1f216fc-711b-426b-b2cd-bdbb189a8928</td>\n            <td>Cannot synchronize the extension Adacta Document Printouts with app ID c1f216fc-711b-426b-b2cd-bdbb189a8928 because it is already synchronized.</td>\n        </tr>\n        <tr>\n            <td>2022-03-03 21:17:34.621000+00:00</td>\n            <td>Synch failed (LC0013)</td>\n            <td>Adacta Document Printouts</td>\n            <td>c1f216fc-711b-426b-b2cd-bdbb189a8928</td>\n            <td>Cannot synchronize the extension Adacta Document Printouts with app ID c1f216fc-711b-426b-b2cd-bdbb189a8928 because it is already synchronized.</td>\n        </tr>\n        <tr>\n            <td>2022-03-03 22:39:23.165000+00:00</td>\n            <td>Synch failed (LC0013)</td>\n            <td>Adacta Document Printouts</td>\n            <td>c1f216fc-711b-426b-b2cd-bdbb189a8928</td>\n            <td>Cannot synchronize the extension Adacta Document Printouts with app ID c1f216fc-711b-426b-b2cd-bdbb189a8928 because it is already synchronized.</td>\n        </tr>\n        <tr>\n            <td>2022-03-04 10:11:37.574000+00:00</td>\n            <td>Synch failed (LC0013)</td>\n            <td>Adacta Document Printouts</td>\n            <td>c1f216fc-711b-426b-b2cd-bdbb189a8928</td>\n            <td>Cannot synchronize the extension Adacta Document Printouts with app ID c1f216fc-711b-426b-b2cd-bdbb189a8928 because it is already synchronized.</td>\n        </tr>\n        <tr>\n            <td>2022-02-25 20:54:24.935000+00:00</td>\n            <td>Synch succeeded (LC0012)</td>\n            <td>Adacta Inventory</td>\n            <td>5828e804-90d8-4f10-8766-9a3e53f66cd6</td>\n            <td></td>\n        </tr>\n        <tr>\n            <td>2022-02-25 20:54:27.752000+00:00</td>\n            <td>Unknown message (LC0010)</td>\n            <td>Adacta Inventory</td>\n            <td>5828e804-90d8-4f10-8766-9a3e53f66cd6</td>\n            <td></td>\n        </tr>\n        <tr>\n            <td>2022-03-01 23:03:56.306000+00:00</td>\n            <td>Synch failed (LC0013)</td>\n            <td>Adacta Inventory</td>\n            <td>5828e804-90d8-4f10-8766-9a3e53f66cd6</td>\n            <td>Cannot synchronize the extension Adacta Inventory with app ID 5828e804-90d8-4f10-8766-9a3e53f66cd6 because it is already synchronized.</td>\n        </tr>\n        <tr>\n            <td>2022-03-03 21:17:30.845000+00:00</td>\n            <td>Synch failed (LC0013)</td>\n            <td>Adacta Inventory</td>\n            <td>5828e804-90d8-4f10-8766-9a3e53f66cd6</td>\n            <td>Cannot synchronize the extension Adacta Inventory with app ID 5828e804-90d8-4f10-8766-9a3e53f66cd6 because it is already synchronized.</td>\n        </tr>\n        <tr>\n            <td>2022-03-03 22:39:19.907000+00:00</td>\n            <td>Synch failed (LC0013)</td>\n            <td>Adacta Inventory</td>\n            <td>5828e804-90d8-4f10-8766-9a3e53f66cd6</td>\n            <td>Cannot synchronize the extension Adacta Inventory with app ID 5828e804-90d8-4f10-8766-9a3e53f66cd6 because it is already synchronized.</td>\n        </tr>\n        <tr>\n            <td>2022-03-04 10:11:34.790000+00:00</td>\n            <td>Synch failed (LC0013)</td>\n            <td>Adacta Inventory</td>\n            <td>5828e804-90d8-4f10-8766-9a3e53f66cd6</td>\n            <td>Cannot synchronize the extension Adacta Inventory with app ID 5828e804-90d8-4f10-8766-9a3e53f66cd6 because it is already synchronized.</td>\n        </tr>\n        <tr>\n            <td>2022-02-25 20:55:52.672000+00:00</td>\n            <td>Synch succeeded (LC0012)</td>\n            <td>Adacta Fixed Assets</td>\n            <td>55b792b3-d574-4f4c-8f83-aee2bd5fe608</td>\n            <td></td>\n        </tr>\n        <tr>\n            <td>2022-02-25 20:55:53.495000+00:00</td>\n            <td>Unknown message (LC0010)</td>\n            <td>Adacta Fixed Assets</td>\n            <td>55b792b3-d574-4f4c-8f83-aee2bd5fe608</td>\n            <td></td>\n        </tr>\n        <tr>\n            <td>2022-03-01 23:03:56.103000+00:00</td>\n            <td>Synch failed (LC0013)</td>\n            <td>Adacta Fixed Assets</td>\n            <td>55b792b3-d574-4f4c-8f83-aee2bd5fe608</td>\n            <td>Cannot synchronize the extension Adacta Fixed Assets with app ID 55b792b3-d574-4f4c-8f83-aee2bd5fe608 because it is already synchronized.</td>\n        </tr>\n        <tr>\n            <td>2022-03-03 21:17:30.595000+00:00</td>\n            <td>Synch failed (LC0013)</td>\n            <td>Adacta Fixed Assets</td>\n            <td>55b792b3-d574-4f4c-8f83-aee2bd5fe608</td>\n            <td>Cannot synchronize the extension Adacta Fixed Assets with app ID 55b792b3-d574-4f4c-8f83-aee2bd5fe608 because it is already synchronized.</td>\n        </tr>\n        <tr>\n            <td>2022-03-03 22:39:19.657000+00:00</td>\n            <td>Synch failed (LC0013)</td>\n            <td>Adacta Fixed Assets</td>\n            <td>55b792b3-d574-4f4c-8f83-aee2bd5fe608</td>\n            <td>Cannot synchronize the extension Adacta Fixed Assets with app ID 55b792b3-d574-4f4c-8f83-aee2bd5fe608 because it is already synchronized.</td>\n        </tr>\n        <tr>\n            <td>2022-03-04 10:11:34.601000+00:00</td>\n            <td>Synch failed (LC0013)</td>\n            <td>Adacta Fixed Assets</td>\n            <td>55b792b3-d574-4f4c-8f83-aee2bd5fe608</td>\n            <td>Cannot synchronize the extension Adacta Fixed Assets with app ID 55b792b3-d574-4f4c-8f83-aee2bd5fe608 because it is already synchronized.</td>\n        </tr>\n        <tr>\n            <td>2022-02-25 20:53:37.805000+00:00</td>\n            <td>Synch succeeded (LC0012)</td>\n            <td>Adacta Administration</td>\n            <td>2bf73771-ac88-49f8-a142-0189fb069995</td>\n            <td></td>\n        </tr>\n        <tr>\n            <td>2022-02-25 20:53:41.459000+00:00</td>\n            <td>Unknown message (LC0010)</td>\n            <td>Adacta Administration</td>\n            <td>2bf73771-ac88-49f8-a142-0189fb069995</td>\n            <td></td>\n        </tr>\n        <tr>\n            <td>2022-03-01 23:03:54.899000+00:00</td>\n            <td>Synch failed (LC0013)</td>\n            <td>Adacta Administration</td>\n            <td>2bf73771-ac88-49f8-a142-0189fb069995</td>\n            <td>Cannot synchronize the extension Adacta Administration with app ID 2bf73771-ac88-49f8-a142-0189fb069995 because it is already synchronized.</td>\n        </tr>\n        <tr>\n            <td>2022-03-03 21:17:28.910000+00:00</td>\n            <td>Synch failed (LC0013)</td>\n            <td>Adacta Administration</td>\n            <td>2bf73771-ac88-49f8-a142-0189fb069995</td>\n            <td>Cannot synchronize the extension Adacta Administration with app ID 2bf73771-ac88-49f8-a142-0189fb069995 because it is already synchronized.</td>\n        </tr>\n        <tr>\n            <td>2022-03-03 22:39:18.348000+00:00</td>\n            <td>Synch failed (LC0013)</td>\n            <td>Adacta Administration</td>\n            <td>2bf73771-ac88-49f8-a142-0189fb069995</td>\n            <td>Cannot synchronize the extension Adacta Administration with app ID 2bf73771-ac88-49f8-a142-0189fb069995 because it is already synchronized.</td>\n        </tr>\n        <tr>\n            <td>2022-03-04 10:11:33.529000+00:00</td>\n            <td>Synch failed (LC0013)</td>\n            <td>Adacta Administration</td>\n            <td>2bf73771-ac88-49f8-a142-0189fb069995</td>\n            <td>Cannot synchronize the extension Adacta Administration with app ID 2bf73771-ac88-49f8-a142-0189fb069995 because it is already synchronized.</td>\n        </tr>\n        <tr>\n            <td>2022-02-25 20:56:32.528000+00:00</td>\n            <td>Synch succeeded (LC0012)</td>\n            <td>BE-terna Travel Orders</td>\n            <td>295bdf09-dfce-4f58-aaf7-6b0e59d01ff2</td>\n            <td></td>\n        </tr>\n        <tr>\n            <td>2022-02-25 20:56:33.196000+00:00</td>\n            <td>Unknown message (LC0010)</td>\n            <td>BE-terna Travel Orders</td>\n            <td>295bdf09-dfce-4f58-aaf7-6b0e59d01ff2</td>\n            <td></td>\n        </tr>\n        <tr>\n            <td>2022-03-01 23:03:54.367000+00:00</td>\n            <td>Synch failed (LC0013)</td>\n            <td>BE-terna Travel Orders</td>\n            <td>295bdf09-dfce-4f58-aaf7-6b0e59d01ff2</td>\n            <td>Cannot synchronize the extension BE-terna Travel Orders with app ID 295bdf09-dfce-4f58-aaf7-6b0e59d01ff2 because it is already synchronized.</td>\n        </tr>\n        <tr>\n            <td>2022-03-03 21:17:28.223000+00:00</td>\n            <td>Synch failed (LC0013)</td>\n            <td>BE-terna Travel Orders</td>\n            <td>295bdf09-dfce-4f58-aaf7-6b0e59d01ff2</td>\n            <td>Cannot synchronize the extension BE-terna Travel Orders with app ID 295bdf09-dfce-4f58-aaf7-6b0e59d01ff2 because it is already synchronized.</td>\n        </tr>\n        <tr>\n            <td>2022-03-03 22:39:17.785000+00:00</td>\n            <td>Synch failed (LC0013)</td>\n            <td>BE-terna Travel Orders</td>\n            <td>295bdf09-dfce-4f58-aaf7-6b0e59d01ff2</td>\n            <td>Cannot synchronize the extension BE-terna Travel Orders with app ID 295bdf09-dfce-4f58-aaf7-6b0e59d01ff2 because it is already synchronized.</td>\n        </tr>\n        <tr>\n            <td>2022-03-04 10:11:33.060000+00:00</td>\n            <td>Synch failed (LC0013)</td>\n            <td>BE-terna Travel Orders</td>\n            <td>295bdf09-dfce-4f58-aaf7-6b0e59d01ff2</td>\n            <td>Cannot synchronize the extension BE-terna Travel Orders with app ID 295bdf09-dfce-4f58-aaf7-6b0e59d01ff2 because it is already synchronized.</td>\n        </tr>\n        <tr>\n            <td>2022-02-25 20:51:42.905000+00:00</td>\n            <td>Synch succeeded (LC0012)</td>\n            <td>Adacta Advanced Payments</td>\n            <td>1385c091-4c56-4503-8d7f-146f5d0c1888</td>\n            <td></td>\n        </tr>\n        <tr>\n            <td>2022-02-25 20:51:58.420000+00:00</td>\n            <td>Unknown message (LC0010)</td>\n            <td>Adacta Advanced Payments</td>\n            <td>1385c091-4c56-4503-8d7f-146f5d0c1888</td>\n            <td></td>\n        </tr>\n        <tr>\n            <td>2022-03-01 23:03:53.807000+00:00</td>\n            <td>Synch failed (LC0013)</td>\n            <td>Adacta Advanced Payments</td>\n            <td>1385c091-4c56-4503-8d7f-146f5d0c1888</td>\n            <td>Cannot synchronize the extension Adacta Advanced Payments with app ID 1385c091-4c56-4503-8d7f-146f5d0c1888 because it is already synchronized.</td>\n        </tr>\n        <tr>\n            <td>2022-03-03 21:17:27.574000+00:00</td>\n            <td>Synch failed (LC0013)</td>\n            <td>Adacta Advanced Payments</td>\n            <td>1385c091-4c56-4503-8d7f-146f5d0c1888</td>\n            <td>Cannot synchronize the extension Adacta Advanced Payments with app ID 1385c091-4c56-4503-8d7f-146f5d0c1888 because it is already synchronized.</td>\n        </tr>\n        <tr>\n            <td>2022-03-03 22:39:17.254000+00:00</td>\n            <td>Synch failed (LC0013)</td>\n            <td>Adacta Advanced Payments</td>\n            <td>1385c091-4c56-4503-8d7f-146f5d0c1888</td>\n            <td>Cannot synchronize the extension Adacta Advanced Payments with app ID 1385c091-4c56-4503-8d7f-146f5d0c1888 because it is already synchronized.</td>\n        </tr>\n        <tr>\n            <td>2022-03-04 10:11:32.621000+00:00</td>\n            <td>Synch failed (LC0013)</td>\n            <td>Adacta Advanced Payments</td>\n            <td>1385c091-4c56-4503-8d7f-146f5d0c1888</td>\n            <td>Cannot synchronize the extension Adacta Advanced Payments with app ID 1385c091-4c56-4503-8d7f-146f5d0c1888 because it is already synchronized.</td>\n        </tr>\n        <tr>\n            <td>2022-02-25 20:52:21.780000+00:00</td>\n            <td>Synch succeeded (LC0012)</td>\n            <td>Adacta General Ledger</td>\n            <td>06044fb1-e4fe-4612-adac-8deb02d8d2cc</td>\n            <td></td>\n        </tr>\n        <tr>\n            <td>2022-02-25 20:52:24.926000+00:00</td>\n            <td>Unknown message (LC0010)</td>\n            <td>Adacta General Ledger</td>\n            <td>06044fb1-e4fe-4612-adac-8deb02d8d2cc</td>\n            <td></td>\n        </tr>\n        <tr>\n            <td>2022-03-01 23:03:52.584000+00:00</td>\n            <td>Synch failed (LC0013)</td>\n            <td>Adacta General Ledger</td>\n            <td>06044fb1-e4fe-4612-adac-8deb02d8d2cc</td>\n            <td>Cannot synchronize the extension Adacta General Ledger with app ID 06044fb1-e4fe-4612-adac-8deb02d8d2cc because it is already synchronized.</td>\n        </tr>\n        <tr>\n            <td>2022-03-03 21:17:26.089000+00:00</td>\n            <td>Synch failed (LC0013)</td>\n            <td>Adacta General Ledger</td>\n            <td>06044fb1-e4fe-4612-adac-8deb02d8d2cc</td>\n            <td>Cannot synchronize the extension Adacta General Ledger with app ID 06044fb1-e4fe-4612-adac-8deb02d8d2cc because it is already synchronized.</td>\n        </tr>\n        <tr>\n            <td>2022-03-03 22:39:16.017000+00:00</td>\n            <td>Synch failed (LC0013)</td>\n            <td>Adacta General Ledger</td>\n            <td>06044fb1-e4fe-4612-adac-8deb02d8d2cc</td>\n            <td>Cannot synchronize the extension Adacta General Ledger with app ID 06044fb1-e4fe-4612-adac-8deb02d8d2cc because it is already synchronized.</td>\n        </tr>\n        <tr>\n            <td>2022-03-04 10:11:31.465000+00:00</td>\n            <td>Synch failed (LC0013)</td>\n            <td>Adacta General Ledger</td>\n            <td>06044fb1-e4fe-4612-adac-8deb02d8d2cc</td>\n            <td>Cannot synchronize the extension Adacta General Ledger with app ID 06044fb1-e4fe-4612-adac-8deb02d8d2cc because it is already synchronized.</td>\n        </tr>\n        <tr>\n            <td>2022-02-25 19:45:07.265000+00:00</td>\n            <td>Synch succeeded (LC0012)</td>\n            <td>Croatian, Serbian and Slovenian Localization</td>\n            <td>06044fb1-e4fe-4612-adac-8deb02d8d2bc</td>\n            <td></td>\n        </tr>\n        <tr>\n            <td>2022-02-25 19:45:30+00:00</td>\n            <td>Unknown message (LC0010)</td>\n            <td>Croatian, Serbian and Slovenian Localization</td>\n            <td>06044fb1-e4fe-4612-adac-8deb02d8d2bc</td>\n            <td></td>\n        </tr>\n        <tr>\n            <td>2022-03-01 23:03:52.162000+00:00</td>\n            <td>Synch failed (LC0013)</td>\n            <td>Croatian, Serbian and Slovenian Localization</td>\n            <td>06044fb1-e4fe-4612-adac-8deb02d8d2bc</td>\n            <td>Cannot synchronize the extension Croatian, Serbian and Slovenian Localization with app ID 06044fb1-e4fe-4612-adac-8deb02d8d2bc because it is already synchronized.</td>\n        </tr>\n        <tr>\n            <td>2022-03-03 21:17:25.572000+00:00</td>\n            <td>Synch failed (LC0013)</td>\n            <td>Croatian, Serbian and Slovenian Localization</td>\n            <td>06044fb1-e4fe-4612-adac-8deb02d8d2bc</td>\n            <td>Cannot synchronize the extension Croatian, Serbian and Slovenian Localization with app ID 06044fb1-e4fe-4612-adac-8deb02d8d2bc because it is already synchronized.</td>\n        </tr>\n        <tr>\n            <td>2022-03-03 22:39:15.501000+00:00</td>\n            <td>Synch failed (LC0013)</td>\n            <td>Croatian, Serbian and Slovenian Localization</td>\n            <td>06044fb1-e4fe-4612-adac-8deb02d8d2bc</td>\n            <td>Cannot synchronize the extension Croatian, Serbian and Slovenian Localization with app ID 06044fb1-e4fe-4612-adac-8deb02d8d2bc because it is already synchronized.</td>\n        </tr>\n        <tr>\n            <td>2022-03-04 10:11:31.073000+00:00</td>\n            <td>Synch failed (LC0013)</td>\n            <td>Croatian, Serbian and Slovenian Localization</td>\n            <td>06044fb1-e4fe-4612-adac-8deb02d8d2bc</td>\n            <td>Cannot synchronize the extension Croatian, Serbian and Slovenian Localization with app ID 06044fb1-e4fe-4612-adac-8deb02d8d2bc because it is already synchronized.</td>\n        </tr>\n        <tr>\n            <td>2022-03-07 13:38:17.217000+00:00</td>\n            <td>Synch succeeded (LC0012)</td>\n            <td>Croatian, Serbian and Slovenian Localization</td>\n            <td>06044fb1-e4fe-4612-adac-8deb02d8d2bc</td>\n            <td></td>\n        </tr>\n        <tr>\n            <td>2022-03-07 13:38:40.217000+00:00</td>\n            <td>Update succeeded (LC0022)</td>\n            <td>Croatian, Serbian and Slovenian Localization</td>\n            <td>06044fb1-e4fe-4612-adac-8deb02d8d2bc</td>\n            <td></td>\n        </tr>\n        <tr>\n            <td>2022-02-25 20:52:58.091000+00:00</td>\n            <td>Synch succeeded (LC0012)</td>\n            <td>Adacta Fiscalization</td>\n            <td>01a6956e-4aab-4c83-ac6c-40279dd3a4cf</td>\n            <td></td>\n        </tr>\n        <tr>\n            <td>2022-02-25 20:53:01.657000+00:00</td>\n            <td>Unknown message (LC0010)</td>\n            <td>Adacta Fiscalization</td>\n            <td>01a6956e-4aab-4c83-ac6c-40279dd3a4cf</td>\n            <td></td>\n        </tr>\n        <tr>\n            <td>2022-03-01 23:03:52.381000+00:00</td>\n            <td>Synch failed (LC0013)</td>\n            <td>Adacta Fiscalization</td>\n            <td>01a6956e-4aab-4c83-ac6c-40279dd3a4cf</td>\n            <td>Cannot synchronize the extension Adacta Fiscalization with app ID 01a6956e-4aab-4c83-ac6c-40279dd3a4cf because it is already synchronized.</td>\n        </tr>\n        <tr>\n            <td>2022-03-03 21:17:25.855000+00:00</td>\n            <td>Synch failed (LC0013)</td>\n            <td>Adacta Fiscalization</td>\n            <td>01a6956e-4aab-4c83-ac6c-40279dd3a4cf</td>\n            <td>Cannot synchronize the extension Adacta Fiscalization with app ID 01a6956e-4aab-4c83-ac6c-40279dd3a4cf because it is already synchronized.</td>\n        </tr>\n        <tr>\n            <td>2022-03-03 22:39:15.720000+00:00</td>\n            <td>Synch failed (LC0013)</td>\n            <td>Adacta Fiscalization</td>\n            <td>01a6956e-4aab-4c83-ac6c-40279dd3a4cf</td>\n            <td>Cannot synchronize the extension Adacta Fiscalization with app ID 01a6956e-4aab-4c83-ac6c-40279dd3a4cf because it is already synchronized.</td>\n        </tr>\n        <tr>\n            <td>2022-03-04 10:11:31.277000+00:00</td>\n            <td>Synch failed (LC0013)</td>\n            <td>Adacta Fiscalization</td>\n            <td>01a6956e-4aab-4c83-ac6c-40279dd3a4cf</td>\n            <td>Cannot synchronize the extension Adacta Fiscalization with app ID 01a6956e-4aab-4c83-ac6c-40279dd3a4cf because it is already synchronized.</td>\n        </tr>\n    </tbody>\n</table>\n        </body>\n        </html>"
                    },
                    "metadata": {}
                },
                {
                    "output_type": "display_data",
                    "data": {
                        "text/plain": "<IPython.core.display.HTML object>",
                        "text/html": "<html>\n        <head>\n            \n            \n        </head>\n        <body>\n            <div><p style=' padding: 10px; color: #3a87ad; background-color: #d9edf7; border-color: #bce9f1'>Done&nbsp;(00:01.265):&nbsp;56&nbsp;records</p></div>\n        </body>\n        </html>"
                    },
                    "metadata": {}
                },
                {
                    "output_type": "execute_result",
                    "execution_count": 39,
                    "data": {
                        "text/plain": "[{'timestamp': datetime.datetime(2022, 2, 25, 20, 55, 3, 640000, tzinfo=tzutc()), 'eventMessageShort': 'Synch succeeded (LC0012)', 'extensionName': 'Adacta Document Printouts', 'extensionId': 'c1f216fc-711b-426b-b2cd-bdbb189a8928', 'failureReason': ''},\n {'timestamp': datetime.datetime(2022, 2, 25, 20, 55, 14, 251000, tzinfo=tzutc()), 'eventMessageShort': 'Unknown message (LC0010)', 'extensionName': 'Adacta Document Printouts', 'extensionId': 'c1f216fc-711b-426b-b2cd-bdbb189a8928', 'failureReason': ''},\n {'timestamp': datetime.datetime(2022, 3, 1, 23, 3, 59, 167000, tzinfo=tzutc()), 'eventMessageShort': 'Synch failed (LC0013)', 'extensionName': 'Adacta Document Printouts', 'extensionId': 'c1f216fc-711b-426b-b2cd-bdbb189a8928', 'failureReason': 'Cannot synchronize the extension Adacta Document Printouts with app ID c1f216fc-711b-426b-b2cd-bdbb189a8928 because it is already synchronized.'},\n {'timestamp': datetime.datetime(2022, 3, 3, 21, 17, 34, 621000, tzinfo=tzutc()), 'eventMessageShort': 'Synch failed (LC0013)', 'extensionName': 'Adacta Document Printouts', 'extensionId': 'c1f216fc-711b-426b-b2cd-bdbb189a8928', 'failureReason': 'Cannot synchronize the extension Adacta Document Printouts with app ID c1f216fc-711b-426b-b2cd-bdbb189a8928 because it is already synchronized.'},\n {'timestamp': datetime.datetime(2022, 3, 3, 22, 39, 23, 165000, tzinfo=tzutc()), 'eventMessageShort': 'Synch failed (LC0013)', 'extensionName': 'Adacta Document Printouts', 'extensionId': 'c1f216fc-711b-426b-b2cd-bdbb189a8928', 'failureReason': 'Cannot synchronize the extension Adacta Document Printouts with app ID c1f216fc-711b-426b-b2cd-bdbb189a8928 because it is already synchronized.'},\n {'timestamp': datetime.datetime(2022, 3, 4, 10, 11, 37, 574000, tzinfo=tzutc()), 'eventMessageShort': 'Synch failed (LC0013)', 'extensionName': 'Adacta Document Printouts', 'extensionId': 'c1f216fc-711b-426b-b2cd-bdbb189a8928', 'failureReason': 'Cannot synchronize the extension Adacta Document Printouts with app ID c1f216fc-711b-426b-b2cd-bdbb189a8928 because it is already synchronized.'},\n {'timestamp': datetime.datetime(2022, 2, 25, 20, 54, 24, 935000, tzinfo=tzutc()), 'eventMessageShort': 'Synch succeeded (LC0012)', 'extensionName': 'Adacta Inventory', 'extensionId': '5828e804-90d8-4f10-8766-9a3e53f66cd6', 'failureReason': ''},\n {'timestamp': datetime.datetime(2022, 2, 25, 20, 54, 27, 752000, tzinfo=tzutc()), 'eventMessageShort': 'Unknown message (LC0010)', 'extensionName': 'Adacta Inventory', 'extensionId': '5828e804-90d8-4f10-8766-9a3e53f66cd6', 'failureReason': ''},\n {'timestamp': datetime.datetime(2022, 3, 1, 23, 3, 56, 306000, tzinfo=tzutc()), 'eventMessageShort': 'Synch failed (LC0013)', 'extensionName': 'Adacta Inventory', 'extensionId': '5828e804-90d8-4f10-8766-9a3e53f66cd6', 'failureReason': 'Cannot synchronize the extension Adacta Inventory with app ID 5828e804-90d8-4f10-8766-9a3e53f66cd6 because it is already synchronized.'},\n {'timestamp': datetime.datetime(2022, 3, 3, 21, 17, 30, 845000, tzinfo=tzutc()), 'eventMessageShort': 'Synch failed (LC0013)', 'extensionName': 'Adacta Inventory', 'extensionId': '5828e804-90d8-4f10-8766-9a3e53f66cd6', 'failureReason': 'Cannot synchronize the extension Adacta Inventory with app ID 5828e804-90d8-4f10-8766-9a3e53f66cd6 because it is already synchronized.'},\n {'timestamp': datetime.datetime(2022, 3, 3, 22, 39, 19, 907000, tzinfo=tzutc()), 'eventMessageShort': 'Synch failed (LC0013)', 'extensionName': 'Adacta Inventory', 'extensionId': '5828e804-90d8-4f10-8766-9a3e53f66cd6', 'failureReason': 'Cannot synchronize the extension Adacta Inventory with app ID 5828e804-90d8-4f10-8766-9a3e53f66cd6 because it is already synchronized.'},\n {'timestamp': datetime.datetime(2022, 3, 4, 10, 11, 34, 790000, tzinfo=tzutc()), 'eventMessageShort': 'Synch failed (LC0013)', 'extensionName': 'Adacta Inventory', 'extensionId': '5828e804-90d8-4f10-8766-9a3e53f66cd6', 'failureReason': 'Cannot synchronize the extension Adacta Inventory with app ID 5828e804-90d8-4f10-8766-9a3e53f66cd6 because it is already synchronized.'},\n {'timestamp': datetime.datetime(2022, 2, 25, 20, 55, 52, 672000, tzinfo=tzutc()), 'eventMessageShort': 'Synch succeeded (LC0012)', 'extensionName': 'Adacta Fixed Assets', 'extensionId': '55b792b3-d574-4f4c-8f83-aee2bd5fe608', 'failureReason': ''},\n {'timestamp': datetime.datetime(2022, 2, 25, 20, 55, 53, 495000, tzinfo=tzutc()), 'eventMessageShort': 'Unknown message (LC0010)', 'extensionName': 'Adacta Fixed Assets', 'extensionId': '55b792b3-d574-4f4c-8f83-aee2bd5fe608', 'failureReason': ''},\n {'timestamp': datetime.datetime(2022, 3, 1, 23, 3, 56, 103000, tzinfo=tzutc()), 'eventMessageShort': 'Synch failed (LC0013)', 'extensionName': 'Adacta Fixed Assets', 'extensionId': '55b792b3-d574-4f4c-8f83-aee2bd5fe608', 'failureReason': 'Cannot synchronize the extension Adacta Fixed Assets with app ID 55b792b3-d574-4f4c-8f83-aee2bd5fe608 because it is already synchronized.'},\n {'timestamp': datetime.datetime(2022, 3, 3, 21, 17, 30, 595000, tzinfo=tzutc()), 'eventMessageShort': 'Synch failed (LC0013)', 'extensionName': 'Adacta Fixed Assets', 'extensionId': '55b792b3-d574-4f4c-8f83-aee2bd5fe608', 'failureReason': 'Cannot synchronize the extension Adacta Fixed Assets with app ID 55b792b3-d574-4f4c-8f83-aee2bd5fe608 because it is already synchronized.'},\n {'timestamp': datetime.datetime(2022, 3, 3, 22, 39, 19, 657000, tzinfo=tzutc()), 'eventMessageShort': 'Synch failed (LC0013)', 'extensionName': 'Adacta Fixed Assets', 'extensionId': '55b792b3-d574-4f4c-8f83-aee2bd5fe608', 'failureReason': 'Cannot synchronize the extension Adacta Fixed Assets with app ID 55b792b3-d574-4f4c-8f83-aee2bd5fe608 because it is already synchronized.'},\n {'timestamp': datetime.datetime(2022, 3, 4, 10, 11, 34, 601000, tzinfo=tzutc()), 'eventMessageShort': 'Synch failed (LC0013)', 'extensionName': 'Adacta Fixed Assets', 'extensionId': '55b792b3-d574-4f4c-8f83-aee2bd5fe608', 'failureReason': 'Cannot synchronize the extension Adacta Fixed Assets with app ID 55b792b3-d574-4f4c-8f83-aee2bd5fe608 because it is already synchronized.'},\n {'timestamp': datetime.datetime(2022, 2, 25, 20, 53, 37, 805000, tzinfo=tzutc()), 'eventMessageShort': 'Synch succeeded (LC0012)', 'extensionName': 'Adacta Administration', 'extensionId': '2bf73771-ac88-49f8-a142-0189fb069995', 'failureReason': ''},\n {'timestamp': datetime.datetime(2022, 2, 25, 20, 53, 41, 459000, tzinfo=tzutc()), 'eventMessageShort': 'Unknown message (LC0010)', 'extensionName': 'Adacta Administration', 'extensionId': '2bf73771-ac88-49f8-a142-0189fb069995', 'failureReason': ''},\n {'timestamp': datetime.datetime(2022, 3, 1, 23, 3, 54, 899000, tzinfo=tzutc()), 'eventMessageShort': 'Synch failed (LC0013)', 'extensionName': 'Adacta Administration', 'extensionId': '2bf73771-ac88-49f8-a142-0189fb069995', 'failureReason': 'Cannot synchronize the extension Adacta Administration with app ID 2bf73771-ac88-49f8-a142-0189fb069995 because it is already synchronized.'},\n {'timestamp': datetime.datetime(2022, 3, 3, 21, 17, 28, 910000, tzinfo=tzutc()), 'eventMessageShort': 'Synch failed (LC0013)', 'extensionName': 'Adacta Administration', 'extensionId': '2bf73771-ac88-49f8-a142-0189fb069995', 'failureReason': 'Cannot synchronize the extension Adacta Administration with app ID 2bf73771-ac88-49f8-a142-0189fb069995 because it is already synchronized.'},\n {'timestamp': datetime.datetime(2022, 3, 3, 22, 39, 18, 348000, tzinfo=tzutc()), 'eventMessageShort': 'Synch failed (LC0013)', 'extensionName': 'Adacta Administration', 'extensionId': '2bf73771-ac88-49f8-a142-0189fb069995', 'failureReason': 'Cannot synchronize the extension Adacta Administration with app ID 2bf73771-ac88-49f8-a142-0189fb069995 because it is already synchronized.'},\n {'timestamp': datetime.datetime(2022, 3, 4, 10, 11, 33, 529000, tzinfo=tzutc()), 'eventMessageShort': 'Synch failed (LC0013)', 'extensionName': 'Adacta Administration', 'extensionId': '2bf73771-ac88-49f8-a142-0189fb069995', 'failureReason': 'Cannot synchronize the extension Adacta Administration with app ID 2bf73771-ac88-49f8-a142-0189fb069995 because it is already synchronized.'},\n {'timestamp': datetime.datetime(2022, 2, 25, 20, 56, 32, 528000, tzinfo=tzutc()), 'eventMessageShort': 'Synch succeeded (LC0012)', 'extensionName': 'BE-terna Travel Orders', 'extensionId': '295bdf09-dfce-4f58-aaf7-6b0e59d01ff2', 'failureReason': ''},\n {'timestamp': datetime.datetime(2022, 2, 25, 20, 56, 33, 196000, tzinfo=tzutc()), 'eventMessageShort': 'Unknown message (LC0010)', 'extensionName': 'BE-terna Travel Orders', 'extensionId': '295bdf09-dfce-4f58-aaf7-6b0e59d01ff2', 'failureReason': ''},\n {'timestamp': datetime.datetime(2022, 3, 1, 23, 3, 54, 367000, tzinfo=tzutc()), 'eventMessageShort': 'Synch failed (LC0013)', 'extensionName': 'BE-terna Travel Orders', 'extensionId': '295bdf09-dfce-4f58-aaf7-6b0e59d01ff2', 'failureReason': 'Cannot synchronize the extension BE-terna Travel Orders with app ID 295bdf09-dfce-4f58-aaf7-6b0e59d01ff2 because it is already synchronized.'},\n {'timestamp': datetime.datetime(2022, 3, 3, 21, 17, 28, 223000, tzinfo=tzutc()), 'eventMessageShort': 'Synch failed (LC0013)', 'extensionName': 'BE-terna Travel Orders', 'extensionId': '295bdf09-dfce-4f58-aaf7-6b0e59d01ff2', 'failureReason': 'Cannot synchronize the extension BE-terna Travel Orders with app ID 295bdf09-dfce-4f58-aaf7-6b0e59d01ff2 because it is already synchronized.'},\n {'timestamp': datetime.datetime(2022, 3, 3, 22, 39, 17, 785000, tzinfo=tzutc()), 'eventMessageShort': 'Synch failed (LC0013)', 'extensionName': 'BE-terna Travel Orders', 'extensionId': '295bdf09-dfce-4f58-aaf7-6b0e59d01ff2', 'failureReason': 'Cannot synchronize the extension BE-terna Travel Orders with app ID 295bdf09-dfce-4f58-aaf7-6b0e59d01ff2 because it is already synchronized.'},\n {'timestamp': datetime.datetime(2022, 3, 4, 10, 11, 33, 60000, tzinfo=tzutc()), 'eventMessageShort': 'Synch failed (LC0013)', 'extensionName': 'BE-terna Travel Orders', 'extensionId': '295bdf09-dfce-4f58-aaf7-6b0e59d01ff2', 'failureReason': 'Cannot synchronize the extension BE-terna Travel Orders with app ID 295bdf09-dfce-4f58-aaf7-6b0e59d01ff2 because it is already synchronized.'},\n {'timestamp': datetime.datetime(2022, 2, 25, 20, 51, 42, 905000, tzinfo=tzutc()), 'eventMessageShort': 'Synch succeeded (LC0012)', 'extensionName': 'Adacta Advanced Payments', 'extensionId': '1385c091-4c56-4503-8d7f-146f5d0c1888', 'failureReason': ''},\n {'timestamp': datetime.datetime(2022, 2, 25, 20, 51, 58, 420000, tzinfo=tzutc()), 'eventMessageShort': 'Unknown message (LC0010)', 'extensionName': 'Adacta Advanced Payments', 'extensionId': '1385c091-4c56-4503-8d7f-146f5d0c1888', 'failureReason': ''},\n {'timestamp': datetime.datetime(2022, 3, 1, 23, 3, 53, 807000, tzinfo=tzutc()), 'eventMessageShort': 'Synch failed (LC0013)', 'extensionName': 'Adacta Advanced Payments', 'extensionId': '1385c091-4c56-4503-8d7f-146f5d0c1888', 'failureReason': 'Cannot synchronize the extension Adacta Advanced Payments with app ID 1385c091-4c56-4503-8d7f-146f5d0c1888 because it is already synchronized.'},\n {'timestamp': datetime.datetime(2022, 3, 3, 21, 17, 27, 574000, tzinfo=tzutc()), 'eventMessageShort': 'Synch failed (LC0013)', 'extensionName': 'Adacta Advanced Payments', 'extensionId': '1385c091-4c56-4503-8d7f-146f5d0c1888', 'failureReason': 'Cannot synchronize the extension Adacta Advanced Payments with app ID 1385c091-4c56-4503-8d7f-146f5d0c1888 because it is already synchronized.'},\n {'timestamp': datetime.datetime(2022, 3, 3, 22, 39, 17, 254000, tzinfo=tzutc()), 'eventMessageShort': 'Synch failed (LC0013)', 'extensionName': 'Adacta Advanced Payments', 'extensionId': '1385c091-4c56-4503-8d7f-146f5d0c1888', 'failureReason': 'Cannot synchronize the extension Adacta Advanced Payments with app ID 1385c091-4c56-4503-8d7f-146f5d0c1888 because it is already synchronized.'},\n {'timestamp': datetime.datetime(2022, 3, 4, 10, 11, 32, 621000, tzinfo=tzutc()), 'eventMessageShort': 'Synch failed (LC0013)', 'extensionName': 'Adacta Advanced Payments', 'extensionId': '1385c091-4c56-4503-8d7f-146f5d0c1888', 'failureReason': 'Cannot synchronize the extension Adacta Advanced Payments with app ID 1385c091-4c56-4503-8d7f-146f5d0c1888 because it is already synchronized.'},\n {'timestamp': datetime.datetime(2022, 2, 25, 20, 52, 21, 780000, tzinfo=tzutc()), 'eventMessageShort': 'Synch succeeded (LC0012)', 'extensionName': 'Adacta General Ledger', 'extensionId': '06044fb1-e4fe-4612-adac-8deb02d8d2cc', 'failureReason': ''},\n {'timestamp': datetime.datetime(2022, 2, 25, 20, 52, 24, 926000, tzinfo=tzutc()), 'eventMessageShort': 'Unknown message (LC0010)', 'extensionName': 'Adacta General Ledger', 'extensionId': '06044fb1-e4fe-4612-adac-8deb02d8d2cc', 'failureReason': ''},\n {'timestamp': datetime.datetime(2022, 3, 1, 23, 3, 52, 584000, tzinfo=tzutc()), 'eventMessageShort': 'Synch failed (LC0013)', 'extensionName': 'Adacta General Ledger', 'extensionId': '06044fb1-e4fe-4612-adac-8deb02d8d2cc', 'failureReason': 'Cannot synchronize the extension Adacta General Ledger with app ID 06044fb1-e4fe-4612-adac-8deb02d8d2cc because it is already synchronized.'},\n {'timestamp': datetime.datetime(2022, 3, 3, 21, 17, 26, 89000, tzinfo=tzutc()), 'eventMessageShort': 'Synch failed (LC0013)', 'extensionName': 'Adacta General Ledger', 'extensionId': '06044fb1-e4fe-4612-adac-8deb02d8d2cc', 'failureReason': 'Cannot synchronize the extension Adacta General Ledger with app ID 06044fb1-e4fe-4612-adac-8deb02d8d2cc because it is already synchronized.'},\n {'timestamp': datetime.datetime(2022, 3, 3, 22, 39, 16, 17000, tzinfo=tzutc()), 'eventMessageShort': 'Synch failed (LC0013)', 'extensionName': 'Adacta General Ledger', 'extensionId': '06044fb1-e4fe-4612-adac-8deb02d8d2cc', 'failureReason': 'Cannot synchronize the extension Adacta General Ledger with app ID 06044fb1-e4fe-4612-adac-8deb02d8d2cc because it is already synchronized.'},\n {'timestamp': datetime.datetime(2022, 3, 4, 10, 11, 31, 465000, tzinfo=tzutc()), 'eventMessageShort': 'Synch failed (LC0013)', 'extensionName': 'Adacta General Ledger', 'extensionId': '06044fb1-e4fe-4612-adac-8deb02d8d2cc', 'failureReason': 'Cannot synchronize the extension Adacta General Ledger with app ID 06044fb1-e4fe-4612-adac-8deb02d8d2cc because it is already synchronized.'},\n {'timestamp': datetime.datetime(2022, 2, 25, 19, 45, 7, 265000, tzinfo=tzutc()), 'eventMessageShort': 'Synch succeeded (LC0012)', 'extensionName': 'Croatian, Serbian and Slovenian Localization', 'extensionId': '06044fb1-e4fe-4612-adac-8deb02d8d2bc', 'failureReason': ''},\n {'timestamp': datetime.datetime(2022, 2, 25, 19, 45, 30, tzinfo=tzutc()), 'eventMessageShort': 'Unknown message (LC0010)', 'extensionName': 'Croatian, Serbian and Slovenian Localization', 'extensionId': '06044fb1-e4fe-4612-adac-8deb02d8d2bc', 'failureReason': ''},\n {'timestamp': datetime.datetime(2022, 3, 1, 23, 3, 52, 162000, tzinfo=tzutc()), 'eventMessageShort': 'Synch failed (LC0013)', 'extensionName': 'Croatian, Serbian and Slovenian Localization', 'extensionId': '06044fb1-e4fe-4612-adac-8deb02d8d2bc', 'failureReason': 'Cannot synchronize the extension Croatian, Serbian and Slovenian Localization with app ID 06044fb1-e4fe-4612-adac-8deb02d8d2bc because it is already synchronized.'},\n {'timestamp': datetime.datetime(2022, 3, 3, 21, 17, 25, 572000, tzinfo=tzutc()), 'eventMessageShort': 'Synch failed (LC0013)', 'extensionName': 'Croatian, Serbian and Slovenian Localization', 'extensionId': '06044fb1-e4fe-4612-adac-8deb02d8d2bc', 'failureReason': 'Cannot synchronize the extension Croatian, Serbian and Slovenian Localization with app ID 06044fb1-e4fe-4612-adac-8deb02d8d2bc because it is already synchronized.'},\n {'timestamp': datetime.datetime(2022, 3, 3, 22, 39, 15, 501000, tzinfo=tzutc()), 'eventMessageShort': 'Synch failed (LC0013)', 'extensionName': 'Croatian, Serbian and Slovenian Localization', 'extensionId': '06044fb1-e4fe-4612-adac-8deb02d8d2bc', 'failureReason': 'Cannot synchronize the extension Croatian, Serbian and Slovenian Localization with app ID 06044fb1-e4fe-4612-adac-8deb02d8d2bc because it is already synchronized.'},\n {'timestamp': datetime.datetime(2022, 3, 4, 10, 11, 31, 73000, tzinfo=tzutc()), 'eventMessageShort': 'Synch failed (LC0013)', 'extensionName': 'Croatian, Serbian and Slovenian Localization', 'extensionId': '06044fb1-e4fe-4612-adac-8deb02d8d2bc', 'failureReason': 'Cannot synchronize the extension Croatian, Serbian and Slovenian Localization with app ID 06044fb1-e4fe-4612-adac-8deb02d8d2bc because it is already synchronized.'},\n {'timestamp': datetime.datetime(2022, 3, 7, 13, 38, 17, 217000, tzinfo=tzutc()), 'eventMessageShort': 'Synch succeeded (LC0012)', 'extensionName': 'Croatian, Serbian and Slovenian Localization', 'extensionId': '06044fb1-e4fe-4612-adac-8deb02d8d2bc', 'failureReason': ''},\n {'timestamp': datetime.datetime(2022, 3, 7, 13, 38, 40, 217000, tzinfo=tzutc()), 'eventMessageShort': 'Update succeeded (LC0022)', 'extensionName': 'Croatian, Serbian and Slovenian Localization', 'extensionId': '06044fb1-e4fe-4612-adac-8deb02d8d2bc', 'failureReason': ''},\n {'timestamp': datetime.datetime(2022, 2, 25, 20, 52, 58, 91000, tzinfo=tzutc()), 'eventMessageShort': 'Synch succeeded (LC0012)', 'extensionName': 'Adacta Fiscalization', 'extensionId': '01a6956e-4aab-4c83-ac6c-40279dd3a4cf', 'failureReason': ''},\n {'timestamp': datetime.datetime(2022, 2, 25, 20, 53, 1, 657000, tzinfo=tzutc()), 'eventMessageShort': 'Unknown message (LC0010)', 'extensionName': 'Adacta Fiscalization', 'extensionId': '01a6956e-4aab-4c83-ac6c-40279dd3a4cf', 'failureReason': ''},\n {'timestamp': datetime.datetime(2022, 3, 1, 23, 3, 52, 381000, tzinfo=tzutc()), 'eventMessageShort': 'Synch failed (LC0013)', 'extensionName': 'Adacta Fiscalization', 'extensionId': '01a6956e-4aab-4c83-ac6c-40279dd3a4cf', 'failureReason': 'Cannot synchronize the extension Adacta Fiscalization with app ID 01a6956e-4aab-4c83-ac6c-40279dd3a4cf because it is already synchronized.'},\n {'timestamp': datetime.datetime(2022, 3, 3, 21, 17, 25, 855000, tzinfo=tzutc()), 'eventMessageShort': 'Synch failed (LC0013)', 'extensionName': 'Adacta Fiscalization', 'extensionId': '01a6956e-4aab-4c83-ac6c-40279dd3a4cf', 'failureReason': 'Cannot synchronize the extension Adacta Fiscalization with app ID 01a6956e-4aab-4c83-ac6c-40279dd3a4cf because it is already synchronized.'},\n {'timestamp': datetime.datetime(2022, 3, 3, 22, 39, 15, 720000, tzinfo=tzutc()), 'eventMessageShort': 'Synch failed (LC0013)', 'extensionName': 'Adacta Fiscalization', 'extensionId': '01a6956e-4aab-4c83-ac6c-40279dd3a4cf', 'failureReason': 'Cannot synchronize the extension Adacta Fiscalization with app ID 01a6956e-4aab-4c83-ac6c-40279dd3a4cf because it is already synchronized.'},\n {'timestamp': datetime.datetime(2022, 3, 4, 10, 11, 31, 277000, tzinfo=tzutc()), 'eventMessageShort': 'Synch failed (LC0013)', 'extensionName': 'Adacta Fiscalization', 'extensionId': '01a6956e-4aab-4c83-ac6c-40279dd3a4cf', 'failureReason': 'Cannot synchronize the extension Adacta Fiscalization with app ID 01a6956e-4aab-4c83-ac6c-40279dd3a4cf because it is already synchronized.'}]",
                        "text/html": ""
                    },
                    "metadata": {}
                }
            ],
            "execution_count": 39
        },
        {
            "cell_type": "markdown",
            "source": [
                "## Extension failures\n",
                "\n",
                "Event telemetry docs: \n",
                "* https://docs.microsoft.com/en-us/dynamics365/business-central/dev-itpro/administration/telemetry-extension-lifecycle-trace\n",
                "* https://docs.microsoft.com/en-us/dynamics365/business-central/dev-itpro/administration/telemetry-extension-update-trace"
            ],
            "metadata": {
                "azdata_cell_guid": "2f7e604a-0d02-484e-9bcb-a6aa148d5f0b",
                "extensions": {
                    "azuredatastudio": {
                        "views": []
                    }
                }
            }
        },
        {
            "cell_type": "code",
            "source": [
                "%%kql\n",
                "//\n",
                "// extension event failure overview\n",
                "// \n",
                "let _aadTenantId = aadTenantId;\n",
                "let _environmentName = environmentName;\n",
                "let _extensionId = extensionId;\n",
                "let _startDate = startDate;\n",
                "let _endDate = endDate;\n",
                "traces\n",
                "| where 1==1 \n",
                "    and timestamp >= todatetime(_startDate)\n",
                "    and timestamp <= todatetime(_endDate) + totimespan(24h) - totimespan(1ms)\n",
                "    and (_aadTenantId == '' or customDimensions.aadTenantId == _aadTenantId)\n",
                "    and (_environmentName == '' or customDimensions.environmentName == _environmentName )\n",
                "    and (_extensionId == '' or customDimensions.extensionId == _extensionId)    \n",
                "    and customDimensions.eventId in ('RT0010', 'LC0011', 'LC0013', 'LC0015', 'LC0017', 'LC0019', 'LC0021', 'LC0023')    \n",
                "| extend aadTenantId=tostring( customDimensions.aadTenantId)\n",
                "       , environmentName=tostring( customDimensions.environmentName )\n",
                "       , extensionId=tostring( customDimensions.extensionId )\n",
                "       , eventId=tostring(customDimensions.eventId)\n",
                "| extend eventMessageShort= strcat( case(\n",
                "              eventId=='RT0010', 'Update failed (upgrade code)'\n",
                "            , eventId=='LC0011', 'Install failed'\n",
                "            , eventId=='LC0013', 'Synch failed'           \n",
                "            , eventId=='LC0015', 'Publish failed'\n",
                "            , eventId=='LC0017', 'Un-install failed'\n",
                "            , eventId=='LC0019', 'Un-publish failed'\n",
                "            , eventId=='LC0021', 'Compilation failed'\n",
                "            , eventId=='LC0023', 'Update failed (other)'\n",
                "            ,                    'Unknown message'\n",
                "         ), \" (\", eventId, ')'  )\n",
                "| summarize count=count() by eventType=eventMessageShort\n",
                "| order by eventType\n",
                "| render barchart with (title='Failure type overview', xtitle=\"\", legend=hidden)"
            ],
            "metadata": {
                "azdata_cell_guid": "9ec9b678-7d66-4758-9101-4e9e5025dfcf",
                "tags": [],
                "extensions": {
                    "azuredatastudio": {
                        "views": []
                    }
                }
            },
            "outputs": [
                {
                    "output_type": "display_data",
                    "data": {
                        "text/plain": "<IPython.core.display.HTML object>",
                        "text/html": "<html>\n        <head>\n            \n            \n        </head>\n        <body>\n            <div><p style=' padding: 10px; color: #3a87ad; background-color: #d9edf7; border-color: #bce9f1'>&nbsp;*&nbsp;5320f363-af54-4d91-af03-2a0e4fee2dbd@applicationinsights</p></div>\n        </body>\n        </html>"
                    },
                    "metadata": {}
                },
                {
                    "output_type": "display_data",
                    "data": {
                        "text/plain": "<IPython.core.display.HTML object>",
                        "text/html": "<html>\n        <head>\n            <style>#uuid-8fbbac8f497641e4bd4be1c7b6f45b25 {\n                    display: block; \n                    font-style:italic;\n                    font-size:300%;\n                    text-align:center;\n                } </style>\n            <title>Kqlmagic - chart</title>\n        </head>\n        <body>\n            <div id=\"uuid-8fbbac8f497641e4bd4be1c7b6f45b25\"><br><br>EMPTY CHART (no data)<br><br>.</div>\n        </body>\n        </html>"
                    },
                    "metadata": {}
                },
                {
                    "output_type": "display_data",
                    "data": {
                        "text/plain": "<IPython.core.display.HTML object>",
                        "text/html": "<html>\n        <head>\n            \n            \n        </head>\n        <body>\n            <div><p style=' padding: 10px; color: #3a87ad; background-color: #d9edf7; border-color: #bce9f1'>Done&nbsp;(00:01.371):&nbsp;0&nbsp;records</p></div>\n        </body>\n        </html>"
                    },
                    "metadata": {}
                },
                {
                    "output_type": "execute_result",
                    "execution_count": 32,
                    "data": {
                        "text/plain": "[]",
                        "text/html": ""
                    },
                    "metadata": {}
                }
            ],
            "execution_count": 32
        },
        {
            "cell_type": "code",
            "source": [
                "%%kql\n",
                "//\n",
                "// top 100 latest extension event failure details\n",
                "// \n",
                "let _aadTenantId = aadTenantId;\n",
                "let _environmentName = environmentName;\n",
                "let _extensionId = extensionId;\n",
                "let _startDate = startDate;\n",
                "let _endDate = endDate;\n",
                "traces\n",
                "| where 1==1 \n",
                "    and timestamp >= todatetime(_startDate)\n",
                "    and timestamp <= todatetime(_endDate) + totimespan(24h) - totimespan(1ms)\n",
                "    and (_aadTenantId == '' or customDimensions.aadTenantId == _aadTenantId)\n",
                "    and (_environmentName == '' or customDimensions.environmentName == _environmentName )\n",
                "    and (_extensionId == '' or customDimensions.extensionId == _extensionId)\n",
                "    and customDimensions.eventId in ('RT0010', 'LC0011', 'LC0013', 'LC0015', 'LC0017', 'LC0019', 'LC0021', 'LC0023')    \n",
                "| extend aadTenantId=tostring( customDimensions.aadTenantId)\n",
                "       , environmentName=tostring( customDimensions.environmentName )\n",
                "       , extensionId=tostring( customDimensions.extensionId )\n",
                "       , eventId=tostring(customDimensions.eventId)\n",
                "       , extensionName=tostring(customDimensions.extensionName)\n",
                "| extend eventMessageShort= strcat( case(\n",
                "              eventId=='RT0010', 'Update failed (upgrade code)'\n",
                "            , eventId=='LC0011', 'Install failed'\n",
                "            , eventId=='LC0013', 'Synch failed'           \n",
                "            , eventId=='LC0015', 'Publish failed'\n",
                "            , eventId=='LC0017', 'Un-install failed'\n",
                "            , eventId=='LC0019', 'Un-publish failed'\n",
                "            , eventId=='LC0021', 'Compilation failed'\n",
                "            , eventId=='LC0023', 'Update failed (other)'\n",
                "            ,                    'Unknown message'\n",
                "         ), \" (\", eventId, ')'  )\n",
                "| project timestamp, extensionName, eventType=eventMessageShort\n",
                ", version=customDimensions.extensionVersion\n",
                ", failureReason=customDimensions.failureReason\n",
                ", aadTenantId, environmentName, extensionId\n",
                "| order by timestamp desc\n",
                "| limit 100"
            ],
            "metadata": {
                "azdata_cell_guid": "0b53c769-10f8-4343-a89f-fc4cd110d0fa",
                "extensions": {
                    "azuredatastudio": {
                        "views": []
                    }
                }
            },
            "outputs": [
                {
                    "output_type": "display_data",
                    "data": {
                        "text/plain": "<IPython.core.display.HTML object>",
                        "text/html": "<html>\n        <head>\n            \n            \n        </head>\n        <body>\n            <div><p style=' padding: 10px; color: #3a87ad; background-color: #d9edf7; border-color: #bce9f1'>&nbsp;*&nbsp;5320f363-af54-4d91-af03-2a0e4fee2dbd@applicationinsights</p></div>\n        </body>\n        </html>"
                    },
                    "metadata": {}
                },
                {
                    "output_type": "display_data",
                    "data": {
                        "text/plain": "<IPython.core.display.HTML object>",
                        "text/html": "<html>\n        <head>\n            \n            <title>Kqlmagic - table</title>\n        </head>\n        <body>\n            <table>\n    <thead>\n        <tr>\n            <th>timestamp</th>\n            <th>extensionName</th>\n            <th>eventType</th>\n            <th>version</th>\n            <th>failureReason</th>\n            <th>aadTenantId</th>\n            <th>environmentName</th>\n            <th>extensionId</th>\n        </tr>\n    </thead>\n    <tbody>\n    </tbody>\n</table>\n        </body>\n        </html>"
                    },
                    "metadata": {}
                },
                {
                    "output_type": "display_data",
                    "data": {
                        "text/plain": "<IPython.core.display.HTML object>",
                        "text/html": "<html>\n        <head>\n            \n            \n        </head>\n        <body>\n            <div><p style=' padding: 10px; color: #3a87ad; background-color: #d9edf7; border-color: #bce9f1'>Done&nbsp;(00:00.796):&nbsp;0&nbsp;records</p></div>\n        </body>\n        </html>"
                    },
                    "metadata": {}
                },
                {
                    "output_type": "execute_result",
                    "execution_count": 34,
                    "data": {
                        "text/plain": "[]",
                        "text/html": ""
                    },
                    "metadata": {}
                }
            ],
            "execution_count": 34
        },
        {
            "cell_type": "code",
            "source": [
                "%%kql\n",
                "//\n",
                "// top 20 latest update failures (due to upgrade code)\n",
                "// \n",
                "let _aadTenantId = aadTenantId;\n",
                "let _environmentName = environmentName;\n",
                "let _extensionId = extensionId;\n",
                "let _startDate = startDate;\n",
                "let _endDate = endDate;\n",
                "traces\n",
                "| where 1==1 \n",
                "    and timestamp >= todatetime(_startDate)\n",
                "    and timestamp <= todatetime(_endDate) + totimespan(24h) - totimespan(1ms)\n",
                "    and (_aadTenantId == '' or customDimensions.aadTenantId == _aadTenantId)\n",
                "    and (_environmentName == '' or customDimensions.environmentName == _environmentName )\n",
                "    and (_extensionId == '' or customDimensions.extensionId == _extensionId)\n",
                "    and customDimensions.eventId == 'RT0010'\n",
                "| extend aadTenantId=tostring( customDimensions.aadTenantId)\n",
                "       , environmentName=tostring( customDimensions.environmentName )\n",
                "       , extensionId=tostring( customDimensions.extensionId )\n",
                "       , eventId=tostring(customDimensions.eventId)\n",
                "       , extensionName=tostring(customDimensions.extensionName)\n",
                "| project timestamp, extensionName\n",
                ", version=customDimensions.extensionVersion\n",
                ", targetedVersion =customDimensions.extensionTargetedVersion\n",
                ", failureType =customDimensions.failureType\n",
                ", alStackTrace =customDimensions.alStackTrace\n",
                ", companyName = customDimensions.companyName\n",
                ", extensionPublisher = customDimensions.extensionPublisher\n",
                ", aadTenantId, environmentName, extensionId\n",
                "| order by timestamp desc\n",
                "| limit 20"
            ],
            "metadata": {
                "azdata_cell_guid": "575c7fec-cefd-49f0-b7ef-32c11a505e2f",
                "extensions": {
                    "azuredatastudio": {
                        "views": []
                    }
                }
            },
            "outputs": [
                {
                    "output_type": "display_data",
                    "data": {
                        "text/plain": "<IPython.core.display.HTML object>",
                        "text/html": "<html>\n        <head>\n            \n            \n        </head>\n        <body>\n            <div><p style=' padding: 10px; color: #3a87ad; background-color: #d9edf7; border-color: #bce9f1'>&nbsp;*&nbsp;5320f363-af54-4d91-af03-2a0e4fee2dbd@applicationinsights</p></div>\n        </body>\n        </html>"
                    },
                    "metadata": {}
                },
                {
                    "output_type": "display_data",
                    "data": {
                        "text/plain": "<IPython.core.display.HTML object>",
                        "text/html": "<html>\n        <head>\n            \n            <title>Kqlmagic - table</title>\n        </head>\n        <body>\n            <table>\n    <thead>\n        <tr>\n            <th>timestamp</th>\n            <th>extensionName</th>\n            <th>version</th>\n            <th>targetedVersion</th>\n            <th>failureType</th>\n            <th>alStackTrace</th>\n            <th>companyName</th>\n            <th>extensionPublisher</th>\n            <th>aadTenantId</th>\n            <th>environmentName</th>\n            <th>extensionId</th>\n        </tr>\n    </thead>\n    <tbody>\n    </tbody>\n</table>\n        </body>\n        </html>"
                    },
                    "metadata": {}
                },
                {
                    "output_type": "display_data",
                    "data": {
                        "text/plain": "<IPython.core.display.HTML object>",
                        "text/html": "<html>\n        <head>\n            \n            \n        </head>\n        <body>\n            <div><p style=' padding: 10px; color: #3a87ad; background-color: #d9edf7; border-color: #bce9f1'>Done&nbsp;(00:00.753):&nbsp;0&nbsp;records</p></div>\n        </body>\n        </html>"
                    },
                    "metadata": {}
                },
                {
                    "output_type": "execute_result",
                    "execution_count": 35,
                    "data": {
                        "text/plain": "[]",
                        "text/html": ""
                    },
                    "metadata": {}
                }
            ],
            "execution_count": 35
        },
        {
            "cell_type": "code",
            "source": [
                "%%kql\n",
                "//\n",
                "// top 20 latest synch failures\n",
                "// \n",
                "let _aadTenantId = aadTenantId;\n",
                "let _environmentName = environmentName;\n",
                "let _extensionId = extensionId;\n",
                "let _startDate = startDate;\n",
                "let _endDate = endDate;\n",
                "traces\n",
                "| where 1==1 \n",
                "    and timestamp >= todatetime(_startDate)\n",
                "    and timestamp <= todatetime(_endDate) + totimespan(24h) - totimespan(1ms)\n",
                "    and (_aadTenantId == '' or customDimensions.aadTenantId == _aadTenantId)\n",
                "    and (_environmentName == '' or customDimensions.environmentName == _environmentName )\n",
                "    and (_extensionId == '' or customDimensions.extensionId == _extensionId)\n",
                "    and customDimensions.eventId == 'LC0013'\n",
                "| extend aadTenantId=tostring( customDimensions.aadTenantId)\n",
                "       , environmentName=tostring( customDimensions.environmentName )\n",
                "       , extensionId=tostring( customDimensions.extensionId )\n",
                "       , eventId=tostring(customDimensions.eventId)\n",
                "       , extensionName=tostring(customDimensions.extensionName)\n",
                "| project timestamp, extensionName\n",
                ", version=customDimensions.extensionVersion\n",
                ", failureReason=customDimensions.failureReason\n",
                ", publishedAs = customDimensions.extensionPublishedAs\n",
                ", extensionPublisher = customDimensions.extensionPublisher\n",
                ", extensionScope = customDimensions.extensionScope\n",
                ", extensionSynchronizationMode = customDimensions.extensionSynchronizationMode\n",
                ", aadTenantId, environmentName, extensionId\n",
                "| order by timestamp desc\n",
                "| limit 20"
            ],
            "metadata": {
                "azdata_cell_guid": "802147b9-f824-4736-91a8-3b0614a44357",
                "extensions": {
                    "azuredatastudio": {
                        "views": []
                    }
                }
            },
            "outputs": [
                {
                    "output_type": "display_data",
                    "data": {
                        "text/plain": "<IPython.core.display.HTML object>",
                        "text/html": "<html>\n        <head>\n            \n            \n        </head>\n        <body>\n            <div><p style=' padding: 10px; color: #3a87ad; background-color: #d9edf7; border-color: #bce9f1'>&nbsp;*&nbsp;5320f363-af54-4d91-af03-2a0e4fee2dbd@applicationinsights</p></div>\n        </body>\n        </html>"
                    },
                    "metadata": {}
                },
                {
                    "output_type": "display_data",
                    "data": {
                        "text/plain": "<IPython.core.display.HTML object>",
                        "text/html": "<html>\n        <head>\n            \n            <title>Kqlmagic - table</title>\n        </head>\n        <body>\n            <table>\n    <thead>\n        <tr>\n            <th>timestamp</th>\n            <th>extensionName</th>\n            <th>version</th>\n            <th>failureReason</th>\n            <th>publishedAs</th>\n            <th>extensionPublisher</th>\n            <th>extensionScope</th>\n            <th>extensionSynchronizationMode</th>\n            <th>aadTenantId</th>\n            <th>environmentName</th>\n            <th>extensionId</th>\n        </tr>\n    </thead>\n    <tbody>\n    </tbody>\n</table>\n        </body>\n        </html>"
                    },
                    "metadata": {}
                },
                {
                    "output_type": "display_data",
                    "data": {
                        "text/plain": "<IPython.core.display.HTML object>",
                        "text/html": "<html>\n        <head>\n            \n            \n        </head>\n        <body>\n            <div><p style=' padding: 10px; color: #3a87ad; background-color: #d9edf7; border-color: #bce9f1'>Done&nbsp;(00:00.569):&nbsp;0&nbsp;records</p></div>\n        </body>\n        </html>"
                    },
                    "metadata": {}
                },
                {
                    "output_type": "execute_result",
                    "execution_count": 36,
                    "data": {
                        "text/plain": "[]",
                        "text/html": ""
                    },
                    "metadata": {}
                }
            ],
            "execution_count": 36
        },
        {
            "cell_type": "code",
            "source": [
                "%%kql\n",
                "//\n",
                "// top 20 latest compilation failures\n",
                "// \n",
                "let _aadTenantId = aadTenantId;\n",
                "let _environmentName = environmentName;\n",
                "let _extensionId = extensionId;\n",
                "let _startDate = startDate;\n",
                "let _endDate = endDate;\n",
                "traces\n",
                "| where 1==1 \n",
                "    and timestamp >= todatetime(_startDate)\n",
                "    and timestamp <= todatetime(_endDate) + totimespan(24h) - totimespan(1ms)\n",
                "    and (_aadTenantId == '' or customDimensions.aadTenantId == _aadTenantId)\n",
                "    and (_environmentName == '' or customDimensions.environmentName == _environmentName )\n",
                "    and (_extensionId == '' or customDimensions.extensionId == _extensionId)\n",
                "    and customDimensions.eventId == 'LC0021'\n",
                "| extend aadTenantId=tostring( customDimensions.aadTenantId)\n",
                "       , environmentName=tostring( customDimensions.environmentName )\n",
                "       , extensionId=tostring( customDimensions.extensionId )\n",
                "       , eventId=tostring(customDimensions.eventId)\n",
                "       , extensionName=tostring(customDimensions.extensionName)\n",
                "| project timestamp, extensionName\n",
                ", version=customDimensions.extensionVersion\n",
                ", failureReason=customDimensions.failureReason\n",
                ", compilationResult = customDimensions.extensionCompilationResult\n",
                ", compilationDependencyList = customDimensions.extensionCompilationDependencyList\n",
                ", publisher = customDimensions.extensionPublisher\n",
                ", publishedAs = customDimensions.extensionPublishedAs\n",
                ", extensionScope = customDimensions.extensionScope\n",
                ", aadTenantId, environmentName, extensionId\n",
                "| order by timestamp desc\n",
                "| limit 20"
            ],
            "metadata": {
                "azdata_cell_guid": "8c69c428-9aac-4e76-b79a-b9654839ab38",
                "extensions": {
                    "azuredatastudio": {
                        "views": []
                    }
                }
            },
            "outputs": [
                {
                    "output_type": "display_data",
                    "data": {
                        "text/plain": "<IPython.core.display.HTML object>",
                        "text/html": "<html>\n        <head>\n            \n            \n        </head>\n        <body>\n            <div><p style=' padding: 10px; color: #3a87ad; background-color: #d9edf7; border-color: #bce9f1'>&nbsp;*&nbsp;5320f363-af54-4d91-af03-2a0e4fee2dbd@applicationinsights</p></div>\n        </body>\n        </html>"
                    },
                    "metadata": {}
                },
                {
                    "output_type": "display_data",
                    "data": {
                        "text/plain": "<IPython.core.display.HTML object>",
                        "text/html": "<html>\n        <head>\n            \n            <title>Kqlmagic - table</title>\n        </head>\n        <body>\n            <table>\n    <thead>\n        <tr>\n            <th>timestamp</th>\n            <th>extensionName</th>\n            <th>version</th>\n            <th>failureReason</th>\n            <th>compilationResult</th>\n            <th>compilationDependencyList</th>\n            <th>publisher</th>\n            <th>publishedAs</th>\n            <th>extensionScope</th>\n            <th>aadTenantId</th>\n            <th>environmentName</th>\n            <th>extensionId</th>\n        </tr>\n    </thead>\n    <tbody>\n    </tbody>\n</table>\n        </body>\n        </html>"
                    },
                    "metadata": {}
                },
                {
                    "output_type": "display_data",
                    "data": {
                        "text/plain": "<IPython.core.display.HTML object>",
                        "text/html": "<html>\n        <head>\n            \n            \n        </head>\n        <body>\n            <div><p style=' padding: 10px; color: #3a87ad; background-color: #d9edf7; border-color: #bce9f1'>Done&nbsp;(00:00.817):&nbsp;0&nbsp;records</p></div>\n        </body>\n        </html>"
                    },
                    "metadata": {}
                },
                {
                    "output_type": "execute_result",
                    "execution_count": 37,
                    "data": {
                        "text/plain": "[]",
                        "text/html": ""
                    },
                    "metadata": {}
                }
            ],
            "execution_count": 37
        }
    ]
}