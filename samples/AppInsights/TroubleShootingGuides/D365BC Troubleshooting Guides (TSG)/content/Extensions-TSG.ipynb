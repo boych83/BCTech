{
    "cells": [
        {
            "cell_type": "markdown",
            "metadata": {
                "azdata_cell_guid": "1f608a1d-2436-4b48-80d4-5c4d2f8ca7d0"
            },
            "source": [
                "# Dynamics 365 Business Central Troubleshooting Guide (TSG) - Extensions\n",
                "\n",
                "This notebook contains Kusto queries that can help getting to the root cause of an issue with extensions for one or more environments. \n",
                "\n",
                "NB! Some of the signal used in this notebook is only available in newer versions of Business Central, so check the version of your environment if some sections do not return any data. The signal documentation states in which version a given signal was introduced."
            ]
        },
        {
            "cell_type": "markdown",
            "metadata": {
                "azdata_cell_guid": "f103fae9-cf6d-40f7-9062-11ce50691046"
            },
            "source": [
                "## 1\\. Get setup: Load up Python libraries and connect to Application Insights\n",
                "First you need to set the notebook Kernel to Python3, load the KQLmagic module (did you install it? <span style=\"color: rgb(33, 33, 33); font-family: Consolas, &quot;Courier New&quot;, monospace; font-size: 12px; white-space: pre;\">Install&nbsp;instructions:&nbsp;https://github.com/microsoft/BCTech/tree/master/samples/AppInsights/TroubleShootingGuides</span>) and connect to your Application Insights resource (get appid and appkey from the API access page in the Application Insights portal)"
            ]
        },
        {
            "cell_type": "code",
            "execution_count": null,
            "metadata": {
                "azdata_cell_guid": "5d02aa4b-9e41-474f-b643-2fbd482077af"
            },
            "outputs": [],
            "source": [
                "# load the KQLmagic module\n",
                "%reload_ext Kqlmagic"
            ]
        },
        {
            "cell_type": "code",
            "execution_count": null,
            "metadata": {
                "azdata_cell_guid": "a253fa8e-6ac2-4722-a00a-1c52aedab4ed",
                "tags": []
            },
            "outputs": [],
            "source": [
                "# Connect to the Application Insights API\n",
                "%kql appinsights://appid='<add app id from the Application Insights portal>';appkey='<add API key from the Application Insights portal>'\n",
                "\n"
            ]
        },
        {
            "cell_type": "markdown",
            "metadata": {
                "azdata_cell_guid": "9ef1220c-d9cc-4552-9297-1428efcafb32"
            },
            "source": [
                "## 2\\. Define filters\n",
                "\n",
                "This workbook is designed for troubleshooting extensions. Please provide values for aadTenantId, environmentName, and extensionId (or use a config file).\n",
                "\n",
                "You can also specify limits to the period of time that the analysis should include."
            ]
        },
        {
            "cell_type": "code",
            "execution_count": null,
            "metadata": {
                "azdata_cell_guid": "0a0785f7-a85e-4ccf-9020-732e1d4c058a",
                "tags": [
                    "hide_input"
                ]
            },
            "outputs": [],
            "source": [
                "# Add values for AAD tenant id, environment name, and extension id.\n",
                "# It is possible to leave one or more values blank (if you want to analyze across all values of the parameter)\n",
                "\n",
                "# You can either use configuration file (INI file format) or set filters directly. \n",
                "\n",
                "# If you specify a config file, then variables set here takes precedence over manually set filter variables\n",
                "# config file name and directory (full path)\n",
                "configFile = \"c:\\\\tmp\\\\notebook.ini\"\n",
                "\n",
                "\n",
                "# Add AAD tenant id and environment name here\n",
                "aadTenantId = \"MyaaDtenantId\"\n",
                "environmentName = \"MyEnvironmentName\"\n",
                "extensionId = \"MyExtensionId\"\n",
                "\n",
                "# date filters for the analysis\n",
                "# use YYYY-MM-DD format for the dates (ISO 8601)\n",
                "startDate = \"2020-11-20\"\n",
                "endDate = \"2020-11-24\"\n",
                "\n",
                "\n",
                "\n",
                "\n",
                "# Do not edit this code section\n",
                "import configparser\n",
                "config = configparser.ConfigParser()\n",
                "\n",
                "config.read(configFile)\n",
                "\n",
                "if bool(config.defaults()):\n",
                "    if config.has_option('DEFAULT', 'aadTenantId'):\n",
                "        aadTenantId = config['DEFAULT']['aadTenantId']\n",
                "    if config.has_option('DEFAULT', 'environmentName'):\n",
                "        environmentName = config['DEFAULT']['environmentName']\n",
                "    if config.has_option('DEFAULT', 'extensionId'):\n",
                "        extensionId = config['DEFAULT']['extensionId']\n",
                "    if config.has_option('DEFAULT', 'startDate'):    \n",
                "        startDate = config['DEFAULT']['startDate']\n",
                "    if config.has_option('DEFAULT', 'endDate'):\n",
                "        endDate = config['DEFAULT']['endDate']\n",
                "\n",
                "print(\"Using these parameters for the analysis:\")\n",
                "print(\"----------------------------------------\")\n",
                "print(\"aadTenantId         \" + aadTenantId)\n",
                "print(\"environmentName     \" + environmentName)\n",
                "print(\"extensionId         \" + extensionId)\n",
                "print(\"startDate           \" + startDate)\n",
                "print(\"endDate             \" + endDate)"
            ]
        },
        {
            "cell_type": "markdown",
            "metadata": {
                "azdata_cell_guid": "5f9b698d-8a7e-4757-b27d-02f219d6c589"
            },
            "source": [
                "# Analyze extension events\n",
                "Now you can run Kusto queries to look for possible root causes for issues about extensions.\n",
                "\n",
                "Either click **Run All** above to run all sections, or scroll down to the type of analysis you want to do and manually run queries"
            ]
        },
        {
            "cell_type": "markdown",
            "metadata": {
                "azdata_cell_guid": "2f9c2d0d-df3c-482b-af58-48416a517117"
            },
            "source": [
                "## Extension event overview\n",
                "\n",
                "Event telemetry docs: \n",
                "* https://docs.microsoft.com/en-us/dynamics365/business-central/dev-itpro/administration/telemetry-extension-lifecycle-trace\n",
                "* https://docs.microsoft.com/en-us/dynamics365/business-central/dev-itpro/administration/telemetry-extension-update-trace\n",
                "\n",
                "KQL samples: https://github.com/microsoft/BCTech/blob/master/samples/AppInsights/KQL/RawData/ExtensionLifecycle.kql"
            ]
        },
        {
            "cell_type": "code",
            "execution_count": null,
            "metadata": {
                "azdata_cell_guid": "a9e923e9-1d05-4acf-a230-4c5142bc3582",
                "tags": []
            },
            "outputs": [],
            "source": [
                "%%kql\n",
                "//\n",
                "// extension event types stats \n",
                "// \n",
                "let _aadTenantId = aadTenantId;\n",
                "let _environmentName = environmentName;\n",
                "let _extensionId = extensionId;\n",
                "let _startDate = startDate;\n",
                "let _endDate = endDate;\n",
                "traces\n",
                "| where 1==1 \n",
                "    and timestamp >= todatetime(_startDate)\n",
                "    and timestamp <= todatetime(_endDate) + totimespan(24h) - totimespan(1ms)\n",
                "    and (_aadTenantId == '' or customDimensions.aadTenantId == _aadTenantId)\n",
                "    and (_environmentName == '' or customDimensions.environmentName == _environmentName )\n",
                "    and (_extensionId == '' or customDimensions.extensionId == _extensionId)    \n",
                "    and customDimensions.eventId in ('RT0010', 'LC0010', 'LC0011', 'LC0012', 'LC0013', 'LC0014', 'LC0015', 'LC0016', 'LC0017', 'LC0018', 'LC0019', 'LC0020', 'LC0021', 'LC0022', 'LC0023')    \n",
                "| extend aadTenantId=tostring( customDimensions.aadTenantId)\n",
                "       , environmentName=tostring( customDimensions.environmentName )\n",
                "       , extensionId=tostring( customDimensions.extensionId )\n",
                "       , eventId=tostring(customDimensions.eventId)\n",
                "| extend eventMessageShort= strcat( case(\n",
                "              eventId=='RT0010', 'Update failed (upgrade code)'\n",
                "            , eventId=='LC0011', 'Install failed'\n",
                "            , eventId=='LC0012', 'Synch succeeded'\n",
                "            , eventId=='LC0013', 'Synch failed'           \n",
                "            , eventId=='LC0014', 'Publish succeeded'\n",
                "            , eventId=='LC0015', 'Publish failed'\n",
                "            , eventId=='LC0016', 'Un-install succeeded'\n",
                "            , eventId=='LC0017', 'Un-install failed'\n",
                "            , eventId=='LC0018', 'Un-publish succeeded'\n",
                "            , eventId=='LC0019', 'Un-publish failed'\n",
                "            , eventId=='LC0020', 'Compilation succeeded'\n",
                "            , eventId=='LC0021', 'Compilation failed'\n",
                "            , eventId=='LC0022', 'Update succeeded'\n",
                "            , eventId=='LC0023', 'Update failed (other)'\n",
                "            ,                    'Unknown message'\n",
                "         ), \" (\", eventId, ')'  )\n",
                "| summarize count=count() by eventType=eventMessageShort\n",
                "| order by eventType\n",
                "| render barchart with (title='Extension lifecycle event overview', legend=hidden)"
            ]
        },
        {
            "cell_type": "code",
            "execution_count": null,
            "metadata": {
                "azdata_cell_guid": "e4e56e1a-ab5d-427a-bc49-747e6ae34a75"
            },
            "outputs": [],
            "source": [
                "%%kql\n",
                "//\n",
                "// top 100 extension events\n",
                "// \n",
                "let _aadTenantId = aadTenantId;\n",
                "let _environmentName = environmentName;\n",
                "let _extensionId = extensionId;\n",
                "let _startDate = startDate;\n",
                "let _endDate = endDate;\n",
                "traces\n",
                "| where 1==1 \n",
                "    and timestamp >= todatetime(_startDate)\n",
                "    and timestamp <= todatetime(_endDate) + totimespan(24h) - totimespan(1ms)\n",
                "    and (_aadTenantId == '' or customDimensions.aadTenantId == _aadTenantId)\n",
                "    and (_environmentName == '' or customDimensions.environmentName == _environmentName )\n",
                "    and (_extensionId == '' or customDimensions.extensionId == _extensionId)    \n",
                "    and customDimensions.eventId in ('RT0010', 'LC0010', 'LC0011', 'LC0012', 'LC0013', 'LC0014', 'LC0015', 'LC0016', 'LC0017', 'LC0018', 'LC0019', 'LC0020', 'LC0021', 'LC0022', 'LC0023')    \n",
                "| extend aadTenantId=tostring( customDimensions.aadTenantId)\n",
                "       , environmentName=tostring( customDimensions.environmentName )\n",
                "       , extensionId=tostring( customDimensions.extensionId )\n",
                "       , extensionName=tostring( customDimensions.extensionName )\n",
                "       , eventId=tostring(customDimensions.eventId)       \n",
                "| extend eventMessageShort= strcat( case(\n",
                "              eventId=='RT0010', 'Update failed (upgrade code)'\n",
                "            , eventId=='LC0011', 'Install failed'\n",
                "            , eventId=='LC0012', 'Synch succeeded'\n",
                "            , eventId=='LC0013', 'Synch failed'           \n",
                "            , eventId=='LC0014', 'Publish succeeded'\n",
                "            , eventId=='LC0015', 'Publish failed'\n",
                "            , eventId=='LC0016', 'Un-install succeeded'\n",
                "            , eventId=='LC0017', 'Un-install failed'\n",
                "            , eventId=='LC0018', 'Un-publish succeeded'\n",
                "            , eventId=='LC0019', 'Un-publish failed'\n",
                "            , eventId=='LC0020', 'Compilation succeeded'\n",
                "            , eventId=='LC0021', 'Compilation failed'\n",
                "            , eventId=='LC0022', 'Update succeeded'\n",
                "            , eventId=='LC0023', 'Update failed (other)'\n",
                "            ,                    'Unknown message'\n",
                "         ), \" (\", eventId, ')'  )\n",
                "| project timestamp, eventMessageShort, extensionName, aadTenantId, environmentName, extensionId\n",
                "| order by aadTenantId, environmentName, extensionId, timestamp asc\n",
                "| limit 100"
            ]
        },
        {
            "cell_type": "markdown",
            "metadata": {
                "azdata_cell_guid": "2f7e604a-0d02-484e-9bcb-a6aa148d5f0b"
            },
            "source": [
                "## Extension failures\n",
                "\n",
                "Event telemetry docs: \n",
                "* https://docs.microsoft.com/en-us/dynamics365/business-central/dev-itpro/administration/telemetry-extension-lifecycle-trace\n",
                "* https://docs.microsoft.com/en-us/dynamics365/business-central/dev-itpro/administration/telemetry-extension-update-trace"
            ]
        },
        {
            "cell_type": "code",
            "execution_count": null,
            "metadata": {
                "azdata_cell_guid": "9ec9b678-7d66-4758-9101-4e9e5025dfcf",
                "tags": []
            },
            "outputs": [],
            "source": [
                "%%kql\n",
                "//\n",
                "// extension event failure overview\n",
                "// \n",
                "let _aadTenantId = aadTenantId;\n",
                "let _environmentName = environmentName;\n",
                "let _extensionId = extensionId;\n",
                "let _startDate = startDate;\n",
                "let _endDate = endDate;\n",
                "traces\n",
                "| where 1==1 \n",
                "    and timestamp >= todatetime(_startDate)\n",
                "    and timestamp <= todatetime(_endDate) + totimespan(24h) - totimespan(1ms)\n",
                "    and (_aadTenantId == '' or customDimensions.aadTenantId == _aadTenantId)\n",
                "    and (_environmentName == '' or customDimensions.environmentName == _environmentName )\n",
                "    and (_extensionId == '' or customDimensions.extensionId == _extensionId)    \n",
                "    and customDimensions.eventId in ('RT0010', 'LC0011', 'LC0013', 'LC0015', 'LC0017', 'LC0019', 'LC0021', 'LC0023')    \n",
                "| extend aadTenantId=tostring( customDimensions.aadTenantId)\n",
                "       , environmentName=tostring( customDimensions.environmentName )\n",
                "       , extensionId=tostring( customDimensions.extensionId )\n",
                "       , eventId=tostring(customDimensions.eventId)\n",
                "| extend eventMessageShort= strcat( case(\n",
                "              eventId=='RT0010', 'Update failed (upgrade code)'\n",
                "            , eventId=='LC0011', 'Install failed'\n",
                "            , eventId=='LC0013', 'Synch failed'           \n",
                "            , eventId=='LC0015', 'Publish failed'\n",
                "            , eventId=='LC0017', 'Un-install failed'\n",
                "            , eventId=='LC0019', 'Un-publish failed'\n",
                "            , eventId=='LC0021', 'Compilation failed'\n",
                "            , eventId=='LC0023', 'Update failed (other)'\n",
                "            ,                    'Unknown message'\n",
                "         ), \" (\", eventId, ')'  )\n",
                "| summarize count=count() by eventType=eventMessageShort\n",
                "| order by eventType\n",
                "| render barchart with (title='Failure type overview', xtitle=\"\", legend=hidden)"
            ]
        },
        {
            "cell_type": "code",
            "execution_count": null,
            "metadata": {
                "azdata_cell_guid": "0b53c769-10f8-4343-a89f-fc4cd110d0fa"
            },
            "outputs": [],
            "source": [
                "%%kql\n",
                "//\n",
                "// top 100 latest extension event failure details\n",
                "// \n",
                "let _aadTenantId = aadTenantId;\n",
                "let _environmentName = environmentName;\n",
                "let _extensionId = extensionId;\n",
                "let _startDate = startDate;\n",
                "let _endDate = endDate;\n",
                "traces\n",
                "| where 1==1 \n",
                "    and timestamp >= todatetime(_startDate)\n",
                "    and timestamp <= todatetime(_endDate) + totimespan(24h) - totimespan(1ms)\n",
                "    and (_aadTenantId == '' or customDimensions.aadTenantId == _aadTenantId)\n",
                "    and (_environmentName == '' or customDimensions.environmentName == _environmentName )\n",
                "    and (_extensionId == '' or customDimensions.extensionId == _extensionId)\n",
                "    and customDimensions.eventId in ('RT0010', 'LC0011', 'LC0013', 'LC0015', 'LC0017', 'LC0019', 'LC0021', 'LC0023')    \n",
                "| extend aadTenantId=tostring( customDimensions.aadTenantId)\n",
                "       , environmentName=tostring( customDimensions.environmentName )\n",
                "       , extensionId=tostring( customDimensions.extensionId )\n",
                "       , eventId=tostring(customDimensions.eventId)\n",
                "       , extensionName=tostring(customDimensions.extensionName)\n",
                "| extend eventMessageShort= strcat( case(\n",
                "              eventId=='RT0010', 'Update failed (upgrade code)'\n",
                "            , eventId=='LC0011', 'Install failed'\n",
                "            , eventId=='LC0013', 'Synch failed'           \n",
                "            , eventId=='LC0015', 'Publish failed'\n",
                "            , eventId=='LC0017', 'Un-install failed'\n",
                "            , eventId=='LC0019', 'Un-publish failed'\n",
                "            , eventId=='LC0021', 'Compilation failed'\n",
                "            , eventId=='LC0023', 'Update failed (other)'\n",
                "            ,                    'Unknown message'\n",
                "         ), \" (\", eventId, ')'  )\n",
                "| project timestamp, extensionName, eventType=eventMessageShort\n",
                ", version=customDimensions.extensionVersion\n",
                ", failureReason=customDimensions.failureReason\n",
                ", aadTenantId, environmentName, extensionId\n",
                "| order by timestamp desc\n",
                "| limit 100"
            ]
        },
        {
            "cell_type": "code",
            "execution_count": null,
            "metadata": {
                "azdata_cell_guid": "575c7fec-cefd-49f0-b7ef-32c11a505e2f"
            },
            "outputs": [],
            "source": [
                "%%kql\n",
                "//\n",
                "// top 20 latest update failures (due to upgrade code)\n",
                "// \n",
                "let _aadTenantId = aadTenantId;\n",
                "let _environmentName = environmentName;\n",
                "let _extensionId = extensionId;\n",
                "let _startDate = startDate;\n",
                "let _endDate = endDate;\n",
                "traces\n",
                "| where 1==1 \n",
                "    and timestamp >= todatetime(_startDate)\n",
                "    and timestamp <= todatetime(_endDate) + totimespan(24h) - totimespan(1ms)\n",
                "    and (_aadTenantId == '' or customDimensions.aadTenantId == _aadTenantId)\n",
                "    and (_environmentName == '' or customDimensions.environmentName == _environmentName )\n",
                "    and (_extensionId == '' or customDimensions.extensionId == _extensionId)\n",
                "    and customDimensions.eventId == 'RT0010'\n",
                "| extend aadTenantId=tostring( customDimensions.aadTenantId)\n",
                "       , environmentName=tostring( customDimensions.environmentName )\n",
                "       , extensionId=tostring( customDimensions.extensionId )\n",
                "       , eventId=tostring(customDimensions.eventId)\n",
                "       , extensionName=tostring(customDimensions.extensionName)\n",
                "| project timestamp, extensionName\n",
                ", version=customDimensions.extensionVersion\n",
                ", targetedVersion =customDimensions.extensionTargetedVersion\n",
                ", failureType =customDimensions.failureType\n",
                ", alStackTrace =customDimensions.alStackTrace\n",
                ", companyName = customDimensions.companyName\n",
                ", extensionPublisher = customDimensions.extensionPublisher\n",
                ", aadTenantId, environmentName, extensionId\n",
                "| order by timestamp desc\n",
                "| limit 20"
            ]
        },
        {
            "cell_type": "code",
            "execution_count": null,
            "metadata": {
                "azdata_cell_guid": "802147b9-f824-4736-91a8-3b0614a44357"
            },
            "outputs": [],
            "source": [
                "%%kql\n",
                "//\n",
                "// top 20 latest synch failures\n",
                "// \n",
                "let _aadTenantId = aadTenantId;\n",
                "let _environmentName = environmentName;\n",
                "let _extensionId = extensionId;\n",
                "let _startDate = startDate;\n",
                "let _endDate = endDate;\n",
                "traces\n",
                "| where 1==1 \n",
                "    and timestamp >= todatetime(_startDate)\n",
                "    and timestamp <= todatetime(_endDate) + totimespan(24h) - totimespan(1ms)\n",
                "    and (_aadTenantId == '' or customDimensions.aadTenantId == _aadTenantId)\n",
                "    and (_environmentName == '' or customDimensions.environmentName == _environmentName )\n",
                "    and (_extensionId == '' or customDimensions.extensionId == _extensionId)\n",
                "    and customDimensions.eventId == 'LC0013'\n",
                "| extend aadTenantId=tostring( customDimensions.aadTenantId)\n",
                "       , environmentName=tostring( customDimensions.environmentName )\n",
                "       , extensionId=tostring( customDimensions.extensionId )\n",
                "       , eventId=tostring(customDimensions.eventId)\n",
                "       , extensionName=tostring(customDimensions.extensionName)\n",
                "| project timestamp, extensionName\n",
                ", version=customDimensions.extensionVersion\n",
                ", failureReason=customDimensions.failureReason\n",
                ", publishedAs = customDimensions.extensionPublishedAs\n",
                ", extensionPublisher = customDimensions.extensionPublisher\n",
                ", extensionScope = customDimensions.extensionScope\n",
                ", extensionSynchronizationMode = customDimensions.extensionSynchronizationMode\n",
                ", aadTenantId, environmentName, extensionId\n",
                "| order by timestamp desc\n",
                "| limit 20"
            ]
        },
        {
            "cell_type": "code",
            "execution_count": null,
            "metadata": {
                "azdata_cell_guid": "8c69c428-9aac-4e76-b79a-b9654839ab38"
            },
            "outputs": [],
            "source": [
                "%%kql\n",
                "//\n",
                "// top 20 latest compilation failures\n",
                "// \n",
                "let _aadTenantId = aadTenantId;\n",
                "let _environmentName = environmentName;\n",
                "let _extensionId = extensionId;\n",
                "let _startDate = startDate;\n",
                "let _endDate = endDate;\n",
                "traces\n",
                "| where 1==1 \n",
                "    and timestamp >= todatetime(_startDate)\n",
                "    and timestamp <= todatetime(_endDate) + totimespan(24h) - totimespan(1ms)\n",
                "    and (_aadTenantId == '' or customDimensions.aadTenantId == _aadTenantId)\n",
                "    and (_environmentName == '' or customDimensions.environmentName == _environmentName )\n",
                "    and (_extensionId == '' or customDimensions.extensionId == _extensionId)\n",
                "    and customDimensions.eventId == 'LC0021'\n",
                "| extend aadTenantId=tostring( customDimensions.aadTenantId)\n",
                "       , environmentName=tostring( customDimensions.environmentName )\n",
                "       , extensionId=tostring( customDimensions.extensionId )\n",
                "       , eventId=tostring(customDimensions.eventId)\n",
                "       , extensionName=tostring(customDimensions.extensionName)\n",
                "| project timestamp, extensionName\n",
                ", version=customDimensions.extensionVersion\n",
                ", failureReason=customDimensions.failureReason\n",
                ", compilationResult = customDimensions.extensionCompilationResult\n",
                ", compilationDependencyList = customDimensions.extensionCompilationDependencyList\n",
                ", publisher = customDimensions.extensionPublisher\n",
                ", publishedAs = customDimensions.extensionPublishedAs\n",
                ", extensionScope = customDimensions.extensionScope\n",
                ", aadTenantId, environmentName, extensionId\n",
                "| order by timestamp desc\n",
                "| limit 20"
            ]
        }
    ],
    "metadata": {
        "kernelspec": {
            "display_name": "Python 3",
            "language": "python",
            "name": "python3"
        },
        "language_info": {
            "codemirror_mode": {
                "name": "ipython",
                "version": 3
            },
            "file_extension": ".py",
            "mimetype": "text/x-python",
            "name": "python",
            "nbconvert_exporter": "python",
            "pygments_lexer": "ipython3",
            "version": "3.6.6"
        }
    },
    "nbformat": 4,
    "nbformat_minor": 2
}
