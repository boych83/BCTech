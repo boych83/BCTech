{
    "cells": [
        {
            "cell_type": "markdown",
            "metadata": {
                "azdata_cell_guid": "1f608a1d-2436-4b48-80d4-5c4d2f8ca7d0"
            },
            "source": [
                "# Dynamics 365 Business Central Troubleshooting Guide (TSG) - Connectors (PowerBI, PowerApps, LogicApps, or Flow)\n",
                "\n",
                "This notebook contains Kusto queries that can help getting to the root cause of an issue with usage of any of the connectors from PowerBI, PowerApps, LogicApps, or Flow. \n",
                "\n",
                "Each section in the notebook contains links to relevant documentation from the performance tuning guide [aka.ms/bcperformance](aka.ms/bcperformance),   telemetry documentation in [aka.ms/bctelemetry](aka.ms/bctelemetry), as well as Kusto queries that help dive into a specific area.\n",
                "\n",
                "NB! The signal used in this notebook is only available in versions 16.3 (or newer) of Business Central, so check the version of your environment if some sections do not return any data."
            ]
        },
        {
            "cell_type": "markdown",
            "metadata": {
                "azdata_cell_guid": "f103fae9-cf6d-40f7-9062-11ce50691046"
            },
            "source": [
                "## 1\\. Get setup: Load up Python libraries and connect to Application Insights\n",
                "\n",
                "First you need to set the notebook Kernel to Python3, load the KQLmagic module (did you install it? Install instructions: https://github.com/microsoft/BCTech/tree/master/samples/AppInsights/TroubleShootingGuides) and connect to Application Insights"
            ]
        },
        {
            "cell_type": "code",
            "execution_count": null,
            "metadata": {
                "azdata_cell_guid": "5d02aa4b-9e41-474f-b643-2fbd482077af"
            },
            "outputs": [],
            "source": [
                "# load the KQLmagic module\n",
                "%reload_ext Kqlmagic"
            ]
        },
        {
            "cell_type": "code",
            "execution_count": null,
            "metadata": {
                "azdata_cell_guid": "a253fa8e-6ac2-4722-a00a-1c52aedab4ed",
                "tags": []
            },
            "outputs": [],
            "source": [
                "# Connect to the Application Insights API\n",
                "%kql appinsights://appid='<add app id from the Application Insights portal>';appkey='<add API key from the Application Insights portal>'"
            ]
        },
        {
            "cell_type": "markdown",
            "metadata": {
                "azdata_cell_guid": "9ef1220c-d9cc-4552-9297-1428efcafb32"
            },
            "source": [
                "## 2\\. Define filters\n",
                "\n",
                "This workbook is designed for troubleshooting a single environment. Please provide values for aadTenantId and environmentName (or use a config file)."
            ]
        },
        {
            "cell_type": "code",
            "execution_count": null,
            "metadata": {
                "azdata_cell_guid": "0a0785f7-a85e-4ccf-9020-732e1d4c058a",
                "tags": []
            },
            "outputs": [],
            "source": [
                "# Add values for AAD tenant id, environment name, and date range.\n",
                "# It is possible to leave the value for environment name blank (if you want to analyze across all values of the parameter)\n",
                "\n",
                "# You can either use configuration file (INI file format) or set filters directly. \n",
                "\n",
                "# If you specify a config file, then variables set here takes precedence over manually set filter variables\n",
                "# config file name and directory (full path)\n",
                "configFile = \"c:\\\\tmp\\\\notebook.ini\"\n",
                "\n",
                "\n",
                "# Add AAD tenant id and environment name here\n",
                "aadTenantId = \"MyaaDtenantId\"\n",
                "environmentName = \"\"\n",
                "extensionId = \"MyExtensionId\"\n",
                "\n",
                "# date filters for the analysis\n",
                "# use YYYY-MM-DD format for the dates (ISO 8601)\n",
                "startDate = \"2020-11-20\"\n",
                "endDate = \"2020-11-24\"\n",
                "\n",
                "\n",
                "\n",
                "\n",
                "# Do not edit this code section\n",
                "import configparser\n",
                "config = configparser.ConfigParser()\n",
                "\n",
                "config.read(configFile)\n",
                "\n",
                "if bool(config.defaults()):\n",
                "    if config.has_option('DEFAULT', 'aadTenantId'):\n",
                "        aadTenantId = config['DEFAULT']['aadTenantId']\n",
                "    if config.has_option('DEFAULT', 'environmentName'):\n",
                "        environmentName = config['DEFAULT']['environmentName']\n",
                "    if config.has_option('DEFAULT', 'extensionId'):\n",
                "        extensionId = config['DEFAULT']['extensionId']\n",
                "    if config.has_option('DEFAULT', 'startDate'):    \n",
                "        startDate = config['DEFAULT']['startDate']\n",
                "    if config.has_option('DEFAULT', 'endDate'):\n",
                "        endDate = config['DEFAULT']['endDate']\n",
                "\n",
                "print(\"Using these parameters for the analysis:\")\n",
                "print(\"----------------------------------------\")\n",
                "print(\"aadTenantId         \" + aadTenantId)\n",
                "print(\"environmentName     \" + environmentName)\n",
                "print(\"startDate           \" + startDate)\n",
                "print(\"endDate             \" + endDate)"
            ]
        },
        {
            "cell_type": "markdown",
            "metadata": {
                "azdata_cell_guid": "5f9b698d-8a7e-4757-b27d-02f219d6c589"
            },
            "source": [
                "# Analyze connector usage\n",
                "Now you can run Kusto queries to look for possible root causes for issues about web services.\n",
                "\n",
                "Either click **Run All** above to run all sections, or scroll down to the type of analysis you want to do and manually run queries"
            ]
        },
        {
            "cell_type": "markdown",
            "metadata": {
                "azdata_cell_guid": "2f9c2d0d-df3c-482b-af58-48416a517117"
            },
            "source": [
                "## Connector web service requests overview\n",
                "All connectors use the OData v4 protocol to connect to Business Central. \n",
                "\n",
                "Web service telemetry docs: https://docs.microsoft.com/en-us/dynamics365/business-central/dev-itpro/administration/telemetry-webservices-trace\n",
                "\n",
                "KQL samples: https://github.com/microsoft/BCTech/blob/master/samples/AppInsights/KQL/MicrosoftConnectorUsage.kql"
            ]
        },
        {
            "cell_type": "code",
            "execution_count": null,
            "metadata": {
                "azdata_cell_guid": "a9e923e9-1d05-4acf-a230-4c5142bc3582",
                "tags": []
            },
            "outputs": [],
            "source": [
                "%%kql\n",
                "let _aadTenantId = aadTenantId;\n",
                "let _environmentName = environmentName;\n",
                "let _startDate = startDate;\n",
                "let _endDate = endDate;\n",
                "traces\n",
                "| where 1==1 \n",
                "    and timestamp >= todatetime(_startDate)\n",
                "    and timestamp <= todatetime(_endDate) + totimespan(24h) - totimespan(1ms)    \n",
                "    and customDimensions.aadTenantId == _aadTenantId\n",
                "    and (_environmentName == '' or customDimensions.environmentName == _environmentName )\n",
                "    and customDimensions.eventId == 'RT0008'\n",
                "    and customDimensions.category == 'ODataV4'\n",
                "// httpHeaders and httpStatusCode only available from 16.3\n",
                "| extend httpHeadersTmp =  tostring( customDimensions.httpHeaders)\n",
                "| extend httpHeadersJSON = parse_json(httpHeadersTmp)\n",
                "| extend msUserAgent = tostring( httpHeadersJSON.['ms-dyn-useragent'] )\n",
                "| where msUserAgent has 'AzureConnector' or msUserAgent has 'PowerBIConnector' or msUserAgent has 'BusinessCentralLinkUnfurlingTeamsBot'\n",
                "| extend httpStatusCode = customDimensions.httpStatusCode\n",
                ", connector = case( \n",
                "// ms-dyn-useragent=AzureConnector/1.0 Flow/1.0 DynamicsSmbSaas/1.0.0.0\n",
                "msUserAgent matches regex \"AzureConnector/(.)+Flow\", 'Flow'\n",
                "// [\"PowerBIConnector/1.0 PowerBI/1.0 Dynamics365BusinessCentral/1.1.5\"]\n",
                ", msUserAgent matches regex \"PowerBIConnector/\", 'Power BI'\n",
                "// ms-dyn-useragent=AzureConnector/1.0 PowerApps/3.20092.39 DynamicsSmbSaas/1.0.0.0\n",
                ", msUserAgent matches regex \"AzureConnector/(.)+PowerApps\", 'PowerApps'\n",
                "// ms-dyn-useragent=AzureConnector/1.0 LogicApps/3.20092.39 DynamicsSmbSaas/1.0.0.0\n",
                ", msUserAgent matches regex \"AzureConnector/(.)+LogicApps\", 'LogicApps'\n",
                "// ms-dyn-useragent=BusinessCentralLinkUnfurlingTeamsBot\n",
                ", msUserAgent has \"BusinessCentralLinkUnfurlingTeamsBot\", 'MSTeams'\n",
                ", msUserAgent has 'AzureConnector', 'Unknown Azure connector'\n",
                ", 'Unknown connector' \n",
                ")\n",
                "| summarize request_count=count() by connector, bin(timestamp, 1d)\n",
                "| render timechart title= 'Number of connector web service requests by category'"
            ]
        },
        {
            "cell_type": "code",
            "execution_count": null,
            "metadata": {
                "azdata_cell_guid": "e4e56e1a-ab5d-427a-bc49-747e6ae34a75"
            },
            "outputs": [],
            "source": [
                "%%kql\n",
                "let _aadTenantId = aadTenantId;\n",
                "let _environmentName = environmentName;\n",
                "let _startDate = startDate;\n",
                "let _endDate = endDate;\n",
                "traces\n",
                "| where 1==1 \n",
                "    and timestamp >= todatetime(_startDate)\n",
                "    and timestamp <= todatetime(_endDate) + totimespan(24h) - totimespan(1ms)    \n",
                "    and customDimensions.aadTenantId == _aadTenantId\n",
                "    and (_environmentName == '' or customDimensions.environmentName == _environmentName )\n",
                "    and customDimensions.eventId == 'RT0008'\n",
                "    and customDimensions.category == 'ODataV4'\n",
                "// httpHeaders and httpStatusCode only available from 16.3\n",
                "| extend httpHeadersTmp =  tostring( customDimensions.httpHeaders)\n",
                "| extend httpHeadersJSON = parse_json(httpHeadersTmp)\n",
                "| extend msUserAgent = tostring( httpHeadersJSON.['ms-dyn-useragent'] )\n",
                "| where msUserAgent has 'AzureConnector' or msUserAgent has 'PowerBIConnector' or msUserAgent has 'BusinessCentralLinkUnfurlingTeamsBot'\n",
                "| extend httpStatusCode = customDimensions.httpStatusCode\n",
                ", connector = case( \n",
                "// ms-dyn-useragent=AzureConnector/1.0 Flow/1.0 DynamicsSmbSaas/1.0.0.0\n",
                "msUserAgent matches regex \"AzureConnector/(.)+Flow\", 'Flow'\n",
                "// [\"PowerBIConnector/1.0 PowerBI/1.0 Dynamics365BusinessCentral/1.1.5\"]\n",
                ", msUserAgent matches regex \"PowerBIConnector/\", 'Power BI'\n",
                "// ms-dyn-useragent=AzureConnector/1.0 PowerApps/3.20092.39 DynamicsSmbSaas/1.0.0.0\n",
                ", msUserAgent matches regex \"AzureConnector/(.)+PowerApps\", 'PowerApps'\n",
                "// ms-dyn-useragent=AzureConnector/1.0 LogicApps/3.20092.39 DynamicsSmbSaas/1.0.0.0\n",
                ", msUserAgent matches regex \"AzureConnector/(.)+LogicApps\", 'LogicApps'\n",
                "// ms-dyn-useragent=BusinessCentralLinkUnfurlingTeamsBot\n",
                ", msUserAgent has \"BusinessCentralLinkUnfurlingTeamsBot\", 'MSTeams'\n",
                ", msUserAgent has 'AzureConnector', 'Unknown Azure connector'\n",
                ", 'Unknown connector' \n",
                ")\n",
                ", executionTimeInMS = toreal(totimespan(customDimensions.serverExecutionTime))/10000 //the datatype for executionTime is timespan \n",
                "| summarize count() by executionTime_ms = bin(executionTimeInMS, 100), connector\n",
                "| extend log_count = log10( count_ )\n",
                "| order by connector, executionTime_ms asc\n",
                "| render columnchart with  (ycolumns = log_count, ytitle='log(count)', series = connector, title= 'Execution time (in milliseconds) of connector web service requests' ) "
            ]
        },
        {
            "cell_type": "markdown",
            "metadata": {
                "azdata_cell_guid": "2f7e604a-0d02-484e-9bcb-a6aa148d5f0b"
            },
            "source": [
                "## Connector throttling\n",
                "If web service requests exceed the operational limits in Business Central, then they will either be rejected (with a HTTP status code 426), or timeout (with a HTTP status code 408).\n",
                "\n",
                "Operational Limits for Business Central Online: \n",
                "* https://docs.microsoft.com/en-us/dynamics365/business-central/dev-itpro/administration/operational-limits-online#query-limits\n",
                "\n",
                "Telemetry docs: \n",
                "* https://docs.microsoft.com/en-us/dynamics365/business-central/dev-itpro/administration/telemetry-webservices-trace"
            ]
        },
        {
            "cell_type": "code",
            "execution_count": null,
            "metadata": {
                "azdata_cell_guid": "9ec9b678-7d66-4758-9101-4e9e5025dfcf",
                "tags": []
            },
            "outputs": [],
            "source": [
                "%%kql\n",
                "let _aadTenantId = aadTenantId;\n",
                "let _environmentName = environmentName;\n",
                "let _startDate = startDate;\n",
                "let _endDate = endDate;\n",
                "traces\n",
                "| where 1==1 \n",
                "    and timestamp >= todatetime(_startDate)\n",
                "    and timestamp <= todatetime(_endDate) + totimespan(24h) - totimespan(1ms)\n",
                "    and customDimensions.aadTenantId == _aadTenantId\n",
                "    and (_environmentName == '' or customDimensions.environmentName == _environmentName )\n",
                "    and customDimensions.eventId == 'RT0008'\n",
                "    and customDimensions.category == 'ODataV4'\n",
                "// httpHeaders and httpStatusCode only available from 16.3\n",
                "| extend httpHeadersTmp =  tostring( customDimensions.httpHeaders)\n",
                "| extend httpHeadersJSON = parse_json(httpHeadersTmp)\n",
                "| extend msUserAgent = tostring( httpHeadersJSON.['ms-dyn-useragent'] )\n",
                "| where msUserAgent has 'AzureConnector' or msUserAgent has 'PowerBIConnector' or msUserAgent has 'BusinessCentralLinkUnfurlingTeamsBot'\n",
                "| extend httpStatusCode = tostring( customDimensions.httpStatusCode )\n",
                ", connector = case( \n",
                "// ms-dyn-useragent=AzureConnector/1.0 Flow/1.0 DynamicsSmbSaas/1.0.0.0\n",
                "msUserAgent matches regex \"AzureConnector/(.)+Flow\", 'Flow'\n",
                "// [\"PowerBIConnector/1.0 PowerBI/1.0 Dynamics365BusinessCentral/1.1.5\"]\n",
                ", msUserAgent matches regex \"PowerBIConnector/\", 'Power BI'\n",
                "// ms-dyn-useragent=AzureConnector/1.0 PowerApps/3.20092.39 DynamicsSmbSaas/1.0.0.0\n",
                ", msUserAgent matches regex \"AzureConnector/(.)+PowerApps\", 'PowerApps'\n",
                "// ms-dyn-useragent=AzureConnector/1.0 LogicApps/3.20092.39 DynamicsSmbSaas/1.0.0.0\n",
                ", msUserAgent matches regex \"AzureConnector/(.)+LogicApps\", 'LogicApps'\n",
                "// ms-dyn-useragent=BusinessCentralLinkUnfurlingTeamsBot\n",
                ", msUserAgent has \"BusinessCentralLinkUnfurlingTeamsBot\", 'MSTeams'\n",
                ", msUserAgent has 'AzureConnector', 'Unknown Azure connector'\n",
                ", 'Unknown connector' \n",
                ")\n",
                "| summarize count() by bin(timestamp, 1d), httpStatusCode, connector\n",
                "| render timechart title= 'Number of connector requests by http status code'"
            ]
        },
        {
            "cell_type": "markdown",
            "metadata": {
                "azdata_cell_guid": "f6a9d2d3-26b9-4536-b279-d126e5cd5609"
            },
            "source": [
                "## Connector Web service requests (Access denied)\n",
                "The user who made the request doesn't have proper permissions. For more information, see \n",
                "* https://docs.microsoft.com/en-us/dynamics365/business-central/dev-itpro/webservices/web-services-authentication\n",
                "* https://docs.microsoft.com/en-us/dynamics365/business-central/ui-define-granular-permissions\n",
                "\n",
                "Telemetry docs: \n",
                "* https://docs.microsoft.com/en-us/dynamics365/business-central/dev-itpro/administration/telemetry-webservices-trace"
            ]
        },
        {
            "cell_type": "code",
            "execution_count": null,
            "metadata": {
                "azdata_cell_guid": "ef3d4e9f-42bb-4492-bc3b-f88b33dcbdea"
            },
            "outputs": [],
            "source": [
                "%%kql\n",
                "//\n",
                "// Top 10 endpoint requests with access denied\n",
                "//\n",
                "let _aadTenantId = aadTenantId;\n",
                "let _environmentName = environmentName;\n",
                "let _startDate = startDate;\n",
                "let _endDate = endDate;\n",
                "traces\n",
                "| where 1==1 \n",
                "    and timestamp >= todatetime(_startDate)\n",
                "    and timestamp <= todatetime(_endDate) + totimespan(24h) - totimespan(1ms)\n",
                "    and customDimensions.aadTenantId == _aadTenantId\n",
                "    and (_environmentName == '' or customDimensions.environmentName == _environmentName )\n",
                "    and customDimensions.eventId == 'RT0008'\n",
                "    and customDimensions.category == 'ODataV4'    \n",
                "    and customDimensions.httpStatusCode == '401'\n",
                "// httpHeaders and httpStatusCode only available from 16.3\n",
                "| extend httpHeadersTmp =  tostring( customDimensions.httpHeaders)\n",
                "| extend httpHeadersJSON = parse_json(httpHeadersTmp)\n",
                "| extend msUserAgent = tostring( httpHeadersJSON.['ms-dyn-useragent'] )\n",
                "| where msUserAgent has 'AzureConnector' or msUserAgent has 'PowerBIConnector' or msUserAgent has 'BusinessCentralLinkUnfurlingTeamsBot'\n",
                "| extend httpStatusCode = customDimensions.httpStatusCode\n",
                ", connector = case( \n",
                "// ms-dyn-useragent=AzureConnector/1.0 Flow/1.0 DynamicsSmbSaas/1.0.0.0\n",
                "msUserAgent matches regex \"AzureConnector/(.)+Flow\", 'Flow'\n",
                "// [\"PowerBIConnector/1.0 PowerBI/1.0 Dynamics365BusinessCentral/1.1.5\"]\n",
                ", msUserAgent matches regex \"PowerBIConnector/\", 'Power BI'\n",
                "// ms-dyn-useragent=AzureConnector/1.0 PowerApps/3.20092.39 DynamicsSmbSaas/1.0.0.0\n",
                ", msUserAgent matches regex \"AzureConnector/(.)+PowerApps\", 'PowerApps'\n",
                "// ms-dyn-useragent=AzureConnector/1.0 LogicApps/3.20092.39 DynamicsSmbSaas/1.0.0.0\n",
                ", msUserAgent matches regex \"AzureConnector/(.)+LogicApps\", 'LogicApps'\n",
                "// ms-dyn-useragent=BusinessCentralLinkUnfurlingTeamsBot\n",
                ", msUserAgent has \"BusinessCentralLinkUnfurlingTeamsBot\", 'MSTeams'\n",
                ", msUserAgent has 'AzureConnector', 'Unknown Azure connector'\n",
                ", 'Unknown connector' \n",
                ")    \n",
                "| summarize number_of_requests=count() by connector, endpoint = tostring( customDimensions.endpoint ), alObjectName = tostring( customDimensions.alObjectName ), alObjectId = tostring( customDimensions.alObjectId )\n",
                "| limit 10"
            ]
        },
        {
            "cell_type": "markdown",
            "metadata": {
                "azdata_cell_guid": "ffc66241-e49a-46c3-953c-edb1e3d1ef75"
            },
            "source": [
                "## Connector web service requests (Not found)\n",
                "The given endpoint was not valid\n",
                "\n",
                "See\n",
                "* https://docs.microsoft.com/en-us/dynamics365/business-central/dev-itpro/webservices/publish-web-service\n",
                "\n",
                "Telemetry docs: \n",
                "* https://docs.microsoft.com/en-us/dynamics365/business-central/dev-itpro/administration/telemetry-webservices-trace"
            ]
        },
        {
            "cell_type": "code",
            "execution_count": null,
            "metadata": {
                "azdata_cell_guid": "09e649eb-d8bb-43e8-8f8b-ff07c8cda005"
            },
            "outputs": [],
            "source": [
                "%%kql\n",
                "//\n",
                "// Top 10 non-valid endpoints called\n",
                "//\n",
                "let _aadTenantId = aadTenantId;\n",
                "let _environmentName = environmentName;\n",
                "let _startDate = startDate;\n",
                "let _endDate = endDate;\n",
                "traces\n",
                "| where 1==1 \n",
                "    and timestamp >= todatetime(_startDate)\n",
                "    and timestamp <= todatetime(_endDate) + totimespan(24h) - totimespan(1ms)\n",
                "    and customDimensions.aadTenantId == _aadTenantId\n",
                "    and (_environmentName == '' or customDimensions.environmentName == _environmentName )\n",
                "    and customDimensions.eventId == 'RT0008'\n",
                "    and customDimensions.category == 'ODataV4'    \n",
                "    and customDimensions.httpStatusCode == '404'\n",
                "// httpHeaders and httpStatusCode only available from 16.3\n",
                "| extend httpHeadersTmp =  tostring( customDimensions.httpHeaders)\n",
                "| extend httpHeadersJSON = parse_json(httpHeadersTmp)\n",
                "| extend msUserAgent = tostring( httpHeadersJSON.['ms-dyn-useragent'] )\n",
                "| where msUserAgent has 'AzureConnector' or msUserAgent has 'PowerBIConnector' or msUserAgent has 'BusinessCentralLinkUnfurlingTeamsBot'\n",
                "| extend httpStatusCode = customDimensions.httpStatusCode\n",
                ", connector = case( \n",
                "// ms-dyn-useragent=AzureConnector/1.0 Flow/1.0 DynamicsSmbSaas/1.0.0.0\n",
                "msUserAgent matches regex \"AzureConnector/(.)+Flow\", 'Flow'\n",
                "// [\"PowerBIConnector/1.0 PowerBI/1.0 Dynamics365BusinessCentral/1.1.5\"]\n",
                ", msUserAgent matches regex \"PowerBIConnector/\", 'Power BI'\n",
                "// ms-dyn-useragent=AzureConnector/1.0 PowerApps/3.20092.39 DynamicsSmbSaas/1.0.0.0\n",
                ", msUserAgent matches regex \"AzureConnector/(.)+PowerApps\", 'PowerApps'\n",
                "// ms-dyn-useragent=AzureConnector/1.0 LogicApps/3.20092.39 DynamicsSmbSaas/1.0.0.0\n",
                ", msUserAgent matches regex \"AzureConnector/(.)+LogicApps\", 'LogicApps'\n",
                "// ms-dyn-useragent=BusinessCentralLinkUnfurlingTeamsBot\n",
                ", msUserAgent has \"BusinessCentralLinkUnfurlingTeamsBot\", 'MSTeams'\n",
                ", msUserAgent has 'AzureConnector', 'Unknown Azure connector'\n",
                ", 'Unknown connector' \n",
                ")    \n",
                "| summarize number_of_requests=count() by connector, endpoint = tostring( customDimensions.endpoint ), alObjectName = tostring( customDimensions.alObjectName ), alObjectId = tostring( customDimensions.alObjectId )\n",
                "| order by number_of_requests desc\n",
                "| limit 10"
            ]
        },
        {
            "cell_type": "markdown",
            "metadata": {
                "azdata_cell_guid": "66ab172d-9d99-4228-98c7-68a4113a91a0"
            },
            "source": [
                "## Connector web service requests (Request timed out)\n",
                "The request took longer to complete than the threshold configured for the service\n",
                "\n",
                "See\n",
                "* https://docs.microsoft.com/en-us/dynamics365/business-central/dev-itpro/administration/operational-limits-online#ODataServices\n",
                "\n",
                "Telemetry docs: \n",
                "* https://docs.microsoft.com/en-us/dynamics365/business-central/dev-itpro/administration/telemetry-webservices-trace"
            ]
        },
        {
            "cell_type": "code",
            "execution_count": null,
            "metadata": {
                "azdata_cell_guid": "f29afa7f-6408-4e85-a613-605d9898574d"
            },
            "outputs": [],
            "source": [
                "%%kql\n",
                "//\n",
                "// Top 10 endpoints that timed out\n",
                "//\n",
                "let _aadTenantId = aadTenantId;\n",
                "let _environmentName = environmentName;\n",
                "let _startDate = startDate;\n",
                "let _endDate = endDate;\n",
                "traces\n",
                "| where 1==1 \n",
                "    and timestamp >= todatetime(_startDate)\n",
                "    and timestamp <= todatetime(_endDate) + totimespan(24h) - totimespan(1ms) \n",
                "    and customDimensions.aadTenantId == _aadTenantId\n",
                "    and (_environmentName == '' or customDimensions.environmentName == _environmentName )\n",
                "    and customDimensions.eventId == 'RT0008'\n",
                "    and customDimensions.category == 'ODataV4'    \n",
                "    and customDimensions.httpStatusCode == '408'\n",
                "// httpHeaders and httpStatusCode only available from 16.3\n",
                "| extend httpHeadersTmp =  tostring( customDimensions.httpHeaders)\n",
                "| extend httpHeadersJSON = parse_json(httpHeadersTmp)\n",
                "| extend msUserAgent = tostring( httpHeadersJSON.['ms-dyn-useragent'] )\n",
                "| where msUserAgent has 'AzureConnector' or msUserAgent has 'PowerBIConnector' or msUserAgent has 'BusinessCentralLinkUnfurlingTeamsBot'\n",
                "| extend httpStatusCode = customDimensions.httpStatusCode\n",
                ", connector = case( \n",
                "// ms-dyn-useragent=AzureConnector/1.0 Flow/1.0 DynamicsSmbSaas/1.0.0.0\n",
                "msUserAgent matches regex \"AzureConnector/(.)+Flow\", 'Flow'\n",
                "// [\"PowerBIConnector/1.0 PowerBI/1.0 Dynamics365BusinessCentral/1.1.5\"]\n",
                ", msUserAgent matches regex \"PowerBIConnector/\", 'Power BI'\n",
                "// ms-dyn-useragent=AzureConnector/1.0 PowerApps/3.20092.39 DynamicsSmbSaas/1.0.0.0\n",
                ", msUserAgent matches regex \"AzureConnector/(.)+PowerApps\", 'PowerApps'\n",
                "// ms-dyn-useragent=AzureConnector/1.0 LogicApps/3.20092.39 DynamicsSmbSaas/1.0.0.0\n",
                ", msUserAgent matches regex \"AzureConnector/(.)+LogicApps\", 'LogicApps'\n",
                "// ms-dyn-useragent=BusinessCentralLinkUnfurlingTeamsBot\n",
                ", msUserAgent has \"BusinessCentralLinkUnfurlingTeamsBot\", 'MSTeams'\n",
                ", msUserAgent has 'AzureConnector', 'Unknown Azure connector'\n",
                ", 'Unknown connector' \n",
                ")        \n",
                "| summarize number_of_requests=count() by connector, endpoint = tostring( customDimensions.endpoint ), alObjectName = tostring( customDimensions.alObjectName ), alObjectId = tostring( customDimensions.alObjectId )\n",
                "| order by number_of_requests desc\n",
                "| limit 10"
            ]
        },
        {
            "cell_type": "markdown",
            "metadata": {
                "azdata_cell_guid": "68241327-780a-4766-9e51-b37f90d595dc"
            },
            "source": [
                "## Connector web service requests (Too Many Requests)\n",
                "The request exceeded the maximum simultaneous requests allowed on the service.\n",
                "\n",
                "See\n",
                "* https://docs.microsoft.com/en-us/dynamics365/business-central/dev-itpro/administration/operational-limits-online#ODataServices\n",
                "\n",
                "Telemetry docs: \n",
                "* https://docs.microsoft.com/en-us/dynamics365/business-central/dev-itpro/administration/telemetry-webservices-trace\n"
            ]
        },
        {
            "cell_type": "code",
            "execution_count": null,
            "metadata": {
                "azdata_cell_guid": "2c9888bb-6306-4b67-a545-a40ea5f97f60"
            },
            "outputs": [],
            "source": [
                "%%kql\n",
                "//\n",
                "// Top 10 endpoints get throttled\n",
                "//\n",
                "let _aadTenantId = aadTenantId;\n",
                "let _environmentName = environmentName;\n",
                "let _startDate = startDate;\n",
                "let _endDate = endDate;\n",
                "traces\n",
                "| where 1==1 \n",
                "    and timestamp >= todatetime(_startDate)\n",
                "    and timestamp <= todatetime(_endDate) + totimespan(24h) - totimespan(1ms)\n",
                "    and customDimensions.aadTenantId == _aadTenantId\n",
                "    and (_environmentName == '' or customDimensions.environmentName == _environmentName )\n",
                "    and customDimensions.eventId == 'RT0008'\n",
                "    and customDimensions.httpStatusCode == '426'\n",
                "    and customDimensions.category == 'ODataV4'\n",
                "// httpHeaders and httpStatusCode only available from 16.3\n",
                "| extend httpHeadersTmp =  tostring( customDimensions.httpHeaders)\n",
                "| extend httpHeadersJSON = parse_json(httpHeadersTmp)\n",
                "| extend msUserAgent = tostring( httpHeadersJSON.['ms-dyn-useragent'] )\n",
                "| where msUserAgent has 'AzureConnector' or msUserAgent has 'PowerBIConnector' or msUserAgent has 'BusinessCentralLinkUnfurlingTeamsBot'\n",
                "| extend httpStatusCode = customDimensions.httpStatusCode\n",
                ", connector = case( \n",
                "// ms-dyn-useragent=AzureConnector/1.0 Flow/1.0 DynamicsSmbSaas/1.0.0.0\n",
                "msUserAgent matches regex \"AzureConnector/(.)+Flow\", 'Flow'\n",
                "// [\"PowerBIConnector/1.0 PowerBI/1.0 Dynamics365BusinessCentral/1.1.5\"]\n",
                ", msUserAgent matches regex \"PowerBIConnector/\", 'Power BI'\n",
                "// ms-dyn-useragent=AzureConnector/1.0 PowerApps/3.20092.39 DynamicsSmbSaas/1.0.0.0\n",
                ", msUserAgent matches regex \"AzureConnector/(.)+PowerApps\", 'PowerApps'\n",
                "// ms-dyn-useragent=AzureConnector/1.0 LogicApps/3.20092.39 DynamicsSmbSaas/1.0.0.0\n",
                ", msUserAgent matches regex \"AzureConnector/(.)+LogicApps\", 'LogicApps'\n",
                "// ms-dyn-useragent=BusinessCentralLinkUnfurlingTeamsBot\n",
                ", msUserAgent has \"BusinessCentralLinkUnfurlingTeamsBot\", 'MSTeams'\n",
                ", msUserAgent has 'AzureConnector', 'Unknown Azure connector'\n",
                ", 'Unknown connector' \n",
                ")                \n",
                "| summarize number_of_requests=count() by connector, endpoint = tostring( customDimensions.endpoint ), alObjectName = tostring( customDimensions.alObjectName ), alObjectId = tostring( customDimensions.alObjectId )\n",
                "| order by number_of_requests desc\n",
                "| limit 10"
            ]
        }
    ],
    "metadata": {
        "kernelspec": {
            "display_name": "Python 3",
            "name": "python3"
        },
        "language_info": {
            "codemirror_mode": {
                "name": "ipython",
                "version": 3
            },
            "file_extension": ".py",
            "mimetype": "text/x-python",
            "name": "python",
            "nbconvert_exporter": "python",
            "pygments_lexer": "ipython3",
            "version": "3.6.6"
        }
    },
    "nbformat": 4,
    "nbformat_minor": 2
}
